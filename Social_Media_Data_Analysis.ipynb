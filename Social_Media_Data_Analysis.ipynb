{
  "nbformat": 4,
  "nbformat_minor": 0,
  "metadata": {
    "colab": {
      "provenance": [],
      "gpuType": "A100",
      "authorship_tag": "ABX9TyOypm/pYqqaoOQN/VCpMdLc",
      "include_colab_link": true
    },
    "kernelspec": {
      "name": "python3",
      "display_name": "Python 3"
    },
    "language_info": {
      "name": "python"
    },
    "accelerator": "GPU",
    "widgets": {
      "application/vnd.jupyter.widget-state+json": {
        "9307d256b0424ae5b2dbfb78cb720865": {
          "model_module": "@jupyter-widgets/controls",
          "model_name": "HBoxModel",
          "model_module_version": "1.5.0",
          "state": {
            "_dom_classes": [],
            "_model_module": "@jupyter-widgets/controls",
            "_model_module_version": "1.5.0",
            "_model_name": "HBoxModel",
            "_view_count": null,
            "_view_module": "@jupyter-widgets/controls",
            "_view_module_version": "1.5.0",
            "_view_name": "HBoxView",
            "box_style": "",
            "children": [
              "IPY_MODEL_a91c8d3b74f643538addfe0053fd914c",
              "IPY_MODEL_199ab03228cd4007975f36954ae2a3ca",
              "IPY_MODEL_0d30306faead4102a12495f21f4d3a63"
            ],
            "layout": "IPY_MODEL_04c10ae9910d4af8a1f65e926eee6087"
          }
        },
        "a91c8d3b74f643538addfe0053fd914c": {
          "model_module": "@jupyter-widgets/controls",
          "model_name": "HTMLModel",
          "model_module_version": "1.5.0",
          "state": {
            "_dom_classes": [],
            "_model_module": "@jupyter-widgets/controls",
            "_model_module_version": "1.5.0",
            "_model_name": "HTMLModel",
            "_view_count": null,
            "_view_module": "@jupyter-widgets/controls",
            "_view_module_version": "1.5.0",
            "_view_name": "HTMLView",
            "description": "",
            "description_tooltip": null,
            "layout": "IPY_MODEL_5254aeba5254456bbeebb1de498f8376",
            "placeholder": "​",
            "style": "IPY_MODEL_7ebfa5e08feb45ae8ea417d1409545c7",
            "value": "config.json: 100%"
          }
        },
        "199ab03228cd4007975f36954ae2a3ca": {
          "model_module": "@jupyter-widgets/controls",
          "model_name": "FloatProgressModel",
          "model_module_version": "1.5.0",
          "state": {
            "_dom_classes": [],
            "_model_module": "@jupyter-widgets/controls",
            "_model_module_version": "1.5.0",
            "_model_name": "FloatProgressModel",
            "_view_count": null,
            "_view_module": "@jupyter-widgets/controls",
            "_view_module_version": "1.5.0",
            "_view_name": "ProgressView",
            "bar_style": "success",
            "description": "",
            "description_tooltip": null,
            "layout": "IPY_MODEL_b8860410b7f94494ba7a2b75318e8127",
            "max": 629,
            "min": 0,
            "orientation": "horizontal",
            "style": "IPY_MODEL_d9ee747937cf4e5c8d1cd6da7e8b4084",
            "value": 629
          }
        },
        "0d30306faead4102a12495f21f4d3a63": {
          "model_module": "@jupyter-widgets/controls",
          "model_name": "HTMLModel",
          "model_module_version": "1.5.0",
          "state": {
            "_dom_classes": [],
            "_model_module": "@jupyter-widgets/controls",
            "_model_module_version": "1.5.0",
            "_model_name": "HTMLModel",
            "_view_count": null,
            "_view_module": "@jupyter-widgets/controls",
            "_view_module_version": "1.5.0",
            "_view_name": "HTMLView",
            "description": "",
            "description_tooltip": null,
            "layout": "IPY_MODEL_7b1815f9ed59439496414961352b1cbe",
            "placeholder": "​",
            "style": "IPY_MODEL_58af8c3739664aa3ad92f2c281d2020f",
            "value": " 629/629 [00:00&lt;00:00, 52.8kB/s]"
          }
        },
        "04c10ae9910d4af8a1f65e926eee6087": {
          "model_module": "@jupyter-widgets/base",
          "model_name": "LayoutModel",
          "model_module_version": "1.2.0",
          "state": {
            "_model_module": "@jupyter-widgets/base",
            "_model_module_version": "1.2.0",
            "_model_name": "LayoutModel",
            "_view_count": null,
            "_view_module": "@jupyter-widgets/base",
            "_view_module_version": "1.2.0",
            "_view_name": "LayoutView",
            "align_content": null,
            "align_items": null,
            "align_self": null,
            "border": null,
            "bottom": null,
            "display": null,
            "flex": null,
            "flex_flow": null,
            "grid_area": null,
            "grid_auto_columns": null,
            "grid_auto_flow": null,
            "grid_auto_rows": null,
            "grid_column": null,
            "grid_gap": null,
            "grid_row": null,
            "grid_template_areas": null,
            "grid_template_columns": null,
            "grid_template_rows": null,
            "height": null,
            "justify_content": null,
            "justify_items": null,
            "left": null,
            "margin": null,
            "max_height": null,
            "max_width": null,
            "min_height": null,
            "min_width": null,
            "object_fit": null,
            "object_position": null,
            "order": null,
            "overflow": null,
            "overflow_x": null,
            "overflow_y": null,
            "padding": null,
            "right": null,
            "top": null,
            "visibility": null,
            "width": null
          }
        },
        "5254aeba5254456bbeebb1de498f8376": {
          "model_module": "@jupyter-widgets/base",
          "model_name": "LayoutModel",
          "model_module_version": "1.2.0",
          "state": {
            "_model_module": "@jupyter-widgets/base",
            "_model_module_version": "1.2.0",
            "_model_name": "LayoutModel",
            "_view_count": null,
            "_view_module": "@jupyter-widgets/base",
            "_view_module_version": "1.2.0",
            "_view_name": "LayoutView",
            "align_content": null,
            "align_items": null,
            "align_self": null,
            "border": null,
            "bottom": null,
            "display": null,
            "flex": null,
            "flex_flow": null,
            "grid_area": null,
            "grid_auto_columns": null,
            "grid_auto_flow": null,
            "grid_auto_rows": null,
            "grid_column": null,
            "grid_gap": null,
            "grid_row": null,
            "grid_template_areas": null,
            "grid_template_columns": null,
            "grid_template_rows": null,
            "height": null,
            "justify_content": null,
            "justify_items": null,
            "left": null,
            "margin": null,
            "max_height": null,
            "max_width": null,
            "min_height": null,
            "min_width": null,
            "object_fit": null,
            "object_position": null,
            "order": null,
            "overflow": null,
            "overflow_x": null,
            "overflow_y": null,
            "padding": null,
            "right": null,
            "top": null,
            "visibility": null,
            "width": null
          }
        },
        "7ebfa5e08feb45ae8ea417d1409545c7": {
          "model_module": "@jupyter-widgets/controls",
          "model_name": "DescriptionStyleModel",
          "model_module_version": "1.5.0",
          "state": {
            "_model_module": "@jupyter-widgets/controls",
            "_model_module_version": "1.5.0",
            "_model_name": "DescriptionStyleModel",
            "_view_count": null,
            "_view_module": "@jupyter-widgets/base",
            "_view_module_version": "1.2.0",
            "_view_name": "StyleView",
            "description_width": ""
          }
        },
        "b8860410b7f94494ba7a2b75318e8127": {
          "model_module": "@jupyter-widgets/base",
          "model_name": "LayoutModel",
          "model_module_version": "1.2.0",
          "state": {
            "_model_module": "@jupyter-widgets/base",
            "_model_module_version": "1.2.0",
            "_model_name": "LayoutModel",
            "_view_count": null,
            "_view_module": "@jupyter-widgets/base",
            "_view_module_version": "1.2.0",
            "_view_name": "LayoutView",
            "align_content": null,
            "align_items": null,
            "align_self": null,
            "border": null,
            "bottom": null,
            "display": null,
            "flex": null,
            "flex_flow": null,
            "grid_area": null,
            "grid_auto_columns": null,
            "grid_auto_flow": null,
            "grid_auto_rows": null,
            "grid_column": null,
            "grid_gap": null,
            "grid_row": null,
            "grid_template_areas": null,
            "grid_template_columns": null,
            "grid_template_rows": null,
            "height": null,
            "justify_content": null,
            "justify_items": null,
            "left": null,
            "margin": null,
            "max_height": null,
            "max_width": null,
            "min_height": null,
            "min_width": null,
            "object_fit": null,
            "object_position": null,
            "order": null,
            "overflow": null,
            "overflow_x": null,
            "overflow_y": null,
            "padding": null,
            "right": null,
            "top": null,
            "visibility": null,
            "width": null
          }
        },
        "d9ee747937cf4e5c8d1cd6da7e8b4084": {
          "model_module": "@jupyter-widgets/controls",
          "model_name": "ProgressStyleModel",
          "model_module_version": "1.5.0",
          "state": {
            "_model_module": "@jupyter-widgets/controls",
            "_model_module_version": "1.5.0",
            "_model_name": "ProgressStyleModel",
            "_view_count": null,
            "_view_module": "@jupyter-widgets/base",
            "_view_module_version": "1.2.0",
            "_view_name": "StyleView",
            "bar_color": null,
            "description_width": ""
          }
        },
        "7b1815f9ed59439496414961352b1cbe": {
          "model_module": "@jupyter-widgets/base",
          "model_name": "LayoutModel",
          "model_module_version": "1.2.0",
          "state": {
            "_model_module": "@jupyter-widgets/base",
            "_model_module_version": "1.2.0",
            "_model_name": "LayoutModel",
            "_view_count": null,
            "_view_module": "@jupyter-widgets/base",
            "_view_module_version": "1.2.0",
            "_view_name": "LayoutView",
            "align_content": null,
            "align_items": null,
            "align_self": null,
            "border": null,
            "bottom": null,
            "display": null,
            "flex": null,
            "flex_flow": null,
            "grid_area": null,
            "grid_auto_columns": null,
            "grid_auto_flow": null,
            "grid_auto_rows": null,
            "grid_column": null,
            "grid_gap": null,
            "grid_row": null,
            "grid_template_areas": null,
            "grid_template_columns": null,
            "grid_template_rows": null,
            "height": null,
            "justify_content": null,
            "justify_items": null,
            "left": null,
            "margin": null,
            "max_height": null,
            "max_width": null,
            "min_height": null,
            "min_width": null,
            "object_fit": null,
            "object_position": null,
            "order": null,
            "overflow": null,
            "overflow_x": null,
            "overflow_y": null,
            "padding": null,
            "right": null,
            "top": null,
            "visibility": null,
            "width": null
          }
        },
        "58af8c3739664aa3ad92f2c281d2020f": {
          "model_module": "@jupyter-widgets/controls",
          "model_name": "DescriptionStyleModel",
          "model_module_version": "1.5.0",
          "state": {
            "_model_module": "@jupyter-widgets/controls",
            "_model_module_version": "1.5.0",
            "_model_name": "DescriptionStyleModel",
            "_view_count": null,
            "_view_module": "@jupyter-widgets/base",
            "_view_module_version": "1.2.0",
            "_view_name": "StyleView",
            "description_width": ""
          }
        },
        "b18436d59dea4c6ab178a82049f59b09": {
          "model_module": "@jupyter-widgets/controls",
          "model_name": "HBoxModel",
          "model_module_version": "1.5.0",
          "state": {
            "_dom_classes": [],
            "_model_module": "@jupyter-widgets/controls",
            "_model_module_version": "1.5.0",
            "_model_name": "HBoxModel",
            "_view_count": null,
            "_view_module": "@jupyter-widgets/controls",
            "_view_module_version": "1.5.0",
            "_view_name": "HBoxView",
            "box_style": "",
            "children": [
              "IPY_MODEL_3314e822d0524108a406f6b43627eab8",
              "IPY_MODEL_282c1a610dfd485facecf3045987649b",
              "IPY_MODEL_f30f73405b804734af3d5fa6f6e42dfb"
            ],
            "layout": "IPY_MODEL_87e852fd66c34103bf8bc27ef952e5f6"
          }
        },
        "3314e822d0524108a406f6b43627eab8": {
          "model_module": "@jupyter-widgets/controls",
          "model_name": "HTMLModel",
          "model_module_version": "1.5.0",
          "state": {
            "_dom_classes": [],
            "_model_module": "@jupyter-widgets/controls",
            "_model_module_version": "1.5.0",
            "_model_name": "HTMLModel",
            "_view_count": null,
            "_view_module": "@jupyter-widgets/controls",
            "_view_module_version": "1.5.0",
            "_view_name": "HTMLView",
            "description": "",
            "description_tooltip": null,
            "layout": "IPY_MODEL_8ccb50d7521a4cd2b2cb3c0cf0c023fe",
            "placeholder": "​",
            "style": "IPY_MODEL_1e14ad90d8714e08a8d263c2b2c733ac",
            "value": "model.safetensors: 100%"
          }
        },
        "282c1a610dfd485facecf3045987649b": {
          "model_module": "@jupyter-widgets/controls",
          "model_name": "FloatProgressModel",
          "model_module_version": "1.5.0",
          "state": {
            "_dom_classes": [],
            "_model_module": "@jupyter-widgets/controls",
            "_model_module_version": "1.5.0",
            "_model_name": "FloatProgressModel",
            "_view_count": null,
            "_view_module": "@jupyter-widgets/controls",
            "_view_module_version": "1.5.0",
            "_view_name": "ProgressView",
            "bar_style": "success",
            "description": "",
            "description_tooltip": null,
            "layout": "IPY_MODEL_f595dba2df7540e8a85206dffb119f53",
            "max": 267832558,
            "min": 0,
            "orientation": "horizontal",
            "style": "IPY_MODEL_fe68eccb19f04faca96f1506f34ac706",
            "value": 267832558
          }
        },
        "f30f73405b804734af3d5fa6f6e42dfb": {
          "model_module": "@jupyter-widgets/controls",
          "model_name": "HTMLModel",
          "model_module_version": "1.5.0",
          "state": {
            "_dom_classes": [],
            "_model_module": "@jupyter-widgets/controls",
            "_model_module_version": "1.5.0",
            "_model_name": "HTMLModel",
            "_view_count": null,
            "_view_module": "@jupyter-widgets/controls",
            "_view_module_version": "1.5.0",
            "_view_name": "HTMLView",
            "description": "",
            "description_tooltip": null,
            "layout": "IPY_MODEL_bec5df5104c54f39853ccdd3a8cfd314",
            "placeholder": "​",
            "style": "IPY_MODEL_0a29cead5aba466e853d0010f5e70161",
            "value": " 268M/268M [00:00&lt;00:00, 421MB/s]"
          }
        },
        "87e852fd66c34103bf8bc27ef952e5f6": {
          "model_module": "@jupyter-widgets/base",
          "model_name": "LayoutModel",
          "model_module_version": "1.2.0",
          "state": {
            "_model_module": "@jupyter-widgets/base",
            "_model_module_version": "1.2.0",
            "_model_name": "LayoutModel",
            "_view_count": null,
            "_view_module": "@jupyter-widgets/base",
            "_view_module_version": "1.2.0",
            "_view_name": "LayoutView",
            "align_content": null,
            "align_items": null,
            "align_self": null,
            "border": null,
            "bottom": null,
            "display": null,
            "flex": null,
            "flex_flow": null,
            "grid_area": null,
            "grid_auto_columns": null,
            "grid_auto_flow": null,
            "grid_auto_rows": null,
            "grid_column": null,
            "grid_gap": null,
            "grid_row": null,
            "grid_template_areas": null,
            "grid_template_columns": null,
            "grid_template_rows": null,
            "height": null,
            "justify_content": null,
            "justify_items": null,
            "left": null,
            "margin": null,
            "max_height": null,
            "max_width": null,
            "min_height": null,
            "min_width": null,
            "object_fit": null,
            "object_position": null,
            "order": null,
            "overflow": null,
            "overflow_x": null,
            "overflow_y": null,
            "padding": null,
            "right": null,
            "top": null,
            "visibility": null,
            "width": null
          }
        },
        "8ccb50d7521a4cd2b2cb3c0cf0c023fe": {
          "model_module": "@jupyter-widgets/base",
          "model_name": "LayoutModel",
          "model_module_version": "1.2.0",
          "state": {
            "_model_module": "@jupyter-widgets/base",
            "_model_module_version": "1.2.0",
            "_model_name": "LayoutModel",
            "_view_count": null,
            "_view_module": "@jupyter-widgets/base",
            "_view_module_version": "1.2.0",
            "_view_name": "LayoutView",
            "align_content": null,
            "align_items": null,
            "align_self": null,
            "border": null,
            "bottom": null,
            "display": null,
            "flex": null,
            "flex_flow": null,
            "grid_area": null,
            "grid_auto_columns": null,
            "grid_auto_flow": null,
            "grid_auto_rows": null,
            "grid_column": null,
            "grid_gap": null,
            "grid_row": null,
            "grid_template_areas": null,
            "grid_template_columns": null,
            "grid_template_rows": null,
            "height": null,
            "justify_content": null,
            "justify_items": null,
            "left": null,
            "margin": null,
            "max_height": null,
            "max_width": null,
            "min_height": null,
            "min_width": null,
            "object_fit": null,
            "object_position": null,
            "order": null,
            "overflow": null,
            "overflow_x": null,
            "overflow_y": null,
            "padding": null,
            "right": null,
            "top": null,
            "visibility": null,
            "width": null
          }
        },
        "1e14ad90d8714e08a8d263c2b2c733ac": {
          "model_module": "@jupyter-widgets/controls",
          "model_name": "DescriptionStyleModel",
          "model_module_version": "1.5.0",
          "state": {
            "_model_module": "@jupyter-widgets/controls",
            "_model_module_version": "1.5.0",
            "_model_name": "DescriptionStyleModel",
            "_view_count": null,
            "_view_module": "@jupyter-widgets/base",
            "_view_module_version": "1.2.0",
            "_view_name": "StyleView",
            "description_width": ""
          }
        },
        "f595dba2df7540e8a85206dffb119f53": {
          "model_module": "@jupyter-widgets/base",
          "model_name": "LayoutModel",
          "model_module_version": "1.2.0",
          "state": {
            "_model_module": "@jupyter-widgets/base",
            "_model_module_version": "1.2.0",
            "_model_name": "LayoutModel",
            "_view_count": null,
            "_view_module": "@jupyter-widgets/base",
            "_view_module_version": "1.2.0",
            "_view_name": "LayoutView",
            "align_content": null,
            "align_items": null,
            "align_self": null,
            "border": null,
            "bottom": null,
            "display": null,
            "flex": null,
            "flex_flow": null,
            "grid_area": null,
            "grid_auto_columns": null,
            "grid_auto_flow": null,
            "grid_auto_rows": null,
            "grid_column": null,
            "grid_gap": null,
            "grid_row": null,
            "grid_template_areas": null,
            "grid_template_columns": null,
            "grid_template_rows": null,
            "height": null,
            "justify_content": null,
            "justify_items": null,
            "left": null,
            "margin": null,
            "max_height": null,
            "max_width": null,
            "min_height": null,
            "min_width": null,
            "object_fit": null,
            "object_position": null,
            "order": null,
            "overflow": null,
            "overflow_x": null,
            "overflow_y": null,
            "padding": null,
            "right": null,
            "top": null,
            "visibility": null,
            "width": null
          }
        },
        "fe68eccb19f04faca96f1506f34ac706": {
          "model_module": "@jupyter-widgets/controls",
          "model_name": "ProgressStyleModel",
          "model_module_version": "1.5.0",
          "state": {
            "_model_module": "@jupyter-widgets/controls",
            "_model_module_version": "1.5.0",
            "_model_name": "ProgressStyleModel",
            "_view_count": null,
            "_view_module": "@jupyter-widgets/base",
            "_view_module_version": "1.2.0",
            "_view_name": "StyleView",
            "bar_color": null,
            "description_width": ""
          }
        },
        "bec5df5104c54f39853ccdd3a8cfd314": {
          "model_module": "@jupyter-widgets/base",
          "model_name": "LayoutModel",
          "model_module_version": "1.2.0",
          "state": {
            "_model_module": "@jupyter-widgets/base",
            "_model_module_version": "1.2.0",
            "_model_name": "LayoutModel",
            "_view_count": null,
            "_view_module": "@jupyter-widgets/base",
            "_view_module_version": "1.2.0",
            "_view_name": "LayoutView",
            "align_content": null,
            "align_items": null,
            "align_self": null,
            "border": null,
            "bottom": null,
            "display": null,
            "flex": null,
            "flex_flow": null,
            "grid_area": null,
            "grid_auto_columns": null,
            "grid_auto_flow": null,
            "grid_auto_rows": null,
            "grid_column": null,
            "grid_gap": null,
            "grid_row": null,
            "grid_template_areas": null,
            "grid_template_columns": null,
            "grid_template_rows": null,
            "height": null,
            "justify_content": null,
            "justify_items": null,
            "left": null,
            "margin": null,
            "max_height": null,
            "max_width": null,
            "min_height": null,
            "min_width": null,
            "object_fit": null,
            "object_position": null,
            "order": null,
            "overflow": null,
            "overflow_x": null,
            "overflow_y": null,
            "padding": null,
            "right": null,
            "top": null,
            "visibility": null,
            "width": null
          }
        },
        "0a29cead5aba466e853d0010f5e70161": {
          "model_module": "@jupyter-widgets/controls",
          "model_name": "DescriptionStyleModel",
          "model_module_version": "1.5.0",
          "state": {
            "_model_module": "@jupyter-widgets/controls",
            "_model_module_version": "1.5.0",
            "_model_name": "DescriptionStyleModel",
            "_view_count": null,
            "_view_module": "@jupyter-widgets/base",
            "_view_module_version": "1.2.0",
            "_view_name": "StyleView",
            "description_width": ""
          }
        },
        "3c2dd8d4594c4716932a68a8e6b7ed40": {
          "model_module": "@jupyter-widgets/controls",
          "model_name": "HBoxModel",
          "model_module_version": "1.5.0",
          "state": {
            "_dom_classes": [],
            "_model_module": "@jupyter-widgets/controls",
            "_model_module_version": "1.5.0",
            "_model_name": "HBoxModel",
            "_view_count": null,
            "_view_module": "@jupyter-widgets/controls",
            "_view_module_version": "1.5.0",
            "_view_name": "HBoxView",
            "box_style": "",
            "children": [
              "IPY_MODEL_f51e05582c174665bffeb1f02dde649c",
              "IPY_MODEL_044f7d4a6c2f449f907af3cc33f747f9",
              "IPY_MODEL_3b19b48ffafb45c99883127fe86f0bb1"
            ],
            "layout": "IPY_MODEL_7c90eb231b1e41448467ffb41a2baa98"
          }
        },
        "f51e05582c174665bffeb1f02dde649c": {
          "model_module": "@jupyter-widgets/controls",
          "model_name": "HTMLModel",
          "model_module_version": "1.5.0",
          "state": {
            "_dom_classes": [],
            "_model_module": "@jupyter-widgets/controls",
            "_model_module_version": "1.5.0",
            "_model_name": "HTMLModel",
            "_view_count": null,
            "_view_module": "@jupyter-widgets/controls",
            "_view_module_version": "1.5.0",
            "_view_name": "HTMLView",
            "description": "",
            "description_tooltip": null,
            "layout": "IPY_MODEL_307fe0d01c0a4519b6c6ccff12ecde42",
            "placeholder": "​",
            "style": "IPY_MODEL_036cf84357324fafb42f8324117845ae",
            "value": "tokenizer_config.json: 100%"
          }
        },
        "044f7d4a6c2f449f907af3cc33f747f9": {
          "model_module": "@jupyter-widgets/controls",
          "model_name": "FloatProgressModel",
          "model_module_version": "1.5.0",
          "state": {
            "_dom_classes": [],
            "_model_module": "@jupyter-widgets/controls",
            "_model_module_version": "1.5.0",
            "_model_name": "FloatProgressModel",
            "_view_count": null,
            "_view_module": "@jupyter-widgets/controls",
            "_view_module_version": "1.5.0",
            "_view_name": "ProgressView",
            "bar_style": "success",
            "description": "",
            "description_tooltip": null,
            "layout": "IPY_MODEL_099e0ceaf3754c75a22e7f53692cd9c9",
            "max": 48,
            "min": 0,
            "orientation": "horizontal",
            "style": "IPY_MODEL_0b664bfe475b41959b61f406ea0722ae",
            "value": 48
          }
        },
        "3b19b48ffafb45c99883127fe86f0bb1": {
          "model_module": "@jupyter-widgets/controls",
          "model_name": "HTMLModel",
          "model_module_version": "1.5.0",
          "state": {
            "_dom_classes": [],
            "_model_module": "@jupyter-widgets/controls",
            "_model_module_version": "1.5.0",
            "_model_name": "HTMLModel",
            "_view_count": null,
            "_view_module": "@jupyter-widgets/controls",
            "_view_module_version": "1.5.0",
            "_view_name": "HTMLView",
            "description": "",
            "description_tooltip": null,
            "layout": "IPY_MODEL_ea7071dc2f9645a389deafa4e72d1103",
            "placeholder": "​",
            "style": "IPY_MODEL_f3d48930dd4e444a8ed3f563fac8cbee",
            "value": " 48.0/48.0 [00:00&lt;00:00, 4.41kB/s]"
          }
        },
        "7c90eb231b1e41448467ffb41a2baa98": {
          "model_module": "@jupyter-widgets/base",
          "model_name": "LayoutModel",
          "model_module_version": "1.2.0",
          "state": {
            "_model_module": "@jupyter-widgets/base",
            "_model_module_version": "1.2.0",
            "_model_name": "LayoutModel",
            "_view_count": null,
            "_view_module": "@jupyter-widgets/base",
            "_view_module_version": "1.2.0",
            "_view_name": "LayoutView",
            "align_content": null,
            "align_items": null,
            "align_self": null,
            "border": null,
            "bottom": null,
            "display": null,
            "flex": null,
            "flex_flow": null,
            "grid_area": null,
            "grid_auto_columns": null,
            "grid_auto_flow": null,
            "grid_auto_rows": null,
            "grid_column": null,
            "grid_gap": null,
            "grid_row": null,
            "grid_template_areas": null,
            "grid_template_columns": null,
            "grid_template_rows": null,
            "height": null,
            "justify_content": null,
            "justify_items": null,
            "left": null,
            "margin": null,
            "max_height": null,
            "max_width": null,
            "min_height": null,
            "min_width": null,
            "object_fit": null,
            "object_position": null,
            "order": null,
            "overflow": null,
            "overflow_x": null,
            "overflow_y": null,
            "padding": null,
            "right": null,
            "top": null,
            "visibility": null,
            "width": null
          }
        },
        "307fe0d01c0a4519b6c6ccff12ecde42": {
          "model_module": "@jupyter-widgets/base",
          "model_name": "LayoutModel",
          "model_module_version": "1.2.0",
          "state": {
            "_model_module": "@jupyter-widgets/base",
            "_model_module_version": "1.2.0",
            "_model_name": "LayoutModel",
            "_view_count": null,
            "_view_module": "@jupyter-widgets/base",
            "_view_module_version": "1.2.0",
            "_view_name": "LayoutView",
            "align_content": null,
            "align_items": null,
            "align_self": null,
            "border": null,
            "bottom": null,
            "display": null,
            "flex": null,
            "flex_flow": null,
            "grid_area": null,
            "grid_auto_columns": null,
            "grid_auto_flow": null,
            "grid_auto_rows": null,
            "grid_column": null,
            "grid_gap": null,
            "grid_row": null,
            "grid_template_areas": null,
            "grid_template_columns": null,
            "grid_template_rows": null,
            "height": null,
            "justify_content": null,
            "justify_items": null,
            "left": null,
            "margin": null,
            "max_height": null,
            "max_width": null,
            "min_height": null,
            "min_width": null,
            "object_fit": null,
            "object_position": null,
            "order": null,
            "overflow": null,
            "overflow_x": null,
            "overflow_y": null,
            "padding": null,
            "right": null,
            "top": null,
            "visibility": null,
            "width": null
          }
        },
        "036cf84357324fafb42f8324117845ae": {
          "model_module": "@jupyter-widgets/controls",
          "model_name": "DescriptionStyleModel",
          "model_module_version": "1.5.0",
          "state": {
            "_model_module": "@jupyter-widgets/controls",
            "_model_module_version": "1.5.0",
            "_model_name": "DescriptionStyleModel",
            "_view_count": null,
            "_view_module": "@jupyter-widgets/base",
            "_view_module_version": "1.2.0",
            "_view_name": "StyleView",
            "description_width": ""
          }
        },
        "099e0ceaf3754c75a22e7f53692cd9c9": {
          "model_module": "@jupyter-widgets/base",
          "model_name": "LayoutModel",
          "model_module_version": "1.2.0",
          "state": {
            "_model_module": "@jupyter-widgets/base",
            "_model_module_version": "1.2.0",
            "_model_name": "LayoutModel",
            "_view_count": null,
            "_view_module": "@jupyter-widgets/base",
            "_view_module_version": "1.2.0",
            "_view_name": "LayoutView",
            "align_content": null,
            "align_items": null,
            "align_self": null,
            "border": null,
            "bottom": null,
            "display": null,
            "flex": null,
            "flex_flow": null,
            "grid_area": null,
            "grid_auto_columns": null,
            "grid_auto_flow": null,
            "grid_auto_rows": null,
            "grid_column": null,
            "grid_gap": null,
            "grid_row": null,
            "grid_template_areas": null,
            "grid_template_columns": null,
            "grid_template_rows": null,
            "height": null,
            "justify_content": null,
            "justify_items": null,
            "left": null,
            "margin": null,
            "max_height": null,
            "max_width": null,
            "min_height": null,
            "min_width": null,
            "object_fit": null,
            "object_position": null,
            "order": null,
            "overflow": null,
            "overflow_x": null,
            "overflow_y": null,
            "padding": null,
            "right": null,
            "top": null,
            "visibility": null,
            "width": null
          }
        },
        "0b664bfe475b41959b61f406ea0722ae": {
          "model_module": "@jupyter-widgets/controls",
          "model_name": "ProgressStyleModel",
          "model_module_version": "1.5.0",
          "state": {
            "_model_module": "@jupyter-widgets/controls",
            "_model_module_version": "1.5.0",
            "_model_name": "ProgressStyleModel",
            "_view_count": null,
            "_view_module": "@jupyter-widgets/base",
            "_view_module_version": "1.2.0",
            "_view_name": "StyleView",
            "bar_color": null,
            "description_width": ""
          }
        },
        "ea7071dc2f9645a389deafa4e72d1103": {
          "model_module": "@jupyter-widgets/base",
          "model_name": "LayoutModel",
          "model_module_version": "1.2.0",
          "state": {
            "_model_module": "@jupyter-widgets/base",
            "_model_module_version": "1.2.0",
            "_model_name": "LayoutModel",
            "_view_count": null,
            "_view_module": "@jupyter-widgets/base",
            "_view_module_version": "1.2.0",
            "_view_name": "LayoutView",
            "align_content": null,
            "align_items": null,
            "align_self": null,
            "border": null,
            "bottom": null,
            "display": null,
            "flex": null,
            "flex_flow": null,
            "grid_area": null,
            "grid_auto_columns": null,
            "grid_auto_flow": null,
            "grid_auto_rows": null,
            "grid_column": null,
            "grid_gap": null,
            "grid_row": null,
            "grid_template_areas": null,
            "grid_template_columns": null,
            "grid_template_rows": null,
            "height": null,
            "justify_content": null,
            "justify_items": null,
            "left": null,
            "margin": null,
            "max_height": null,
            "max_width": null,
            "min_height": null,
            "min_width": null,
            "object_fit": null,
            "object_position": null,
            "order": null,
            "overflow": null,
            "overflow_x": null,
            "overflow_y": null,
            "padding": null,
            "right": null,
            "top": null,
            "visibility": null,
            "width": null
          }
        },
        "f3d48930dd4e444a8ed3f563fac8cbee": {
          "model_module": "@jupyter-widgets/controls",
          "model_name": "DescriptionStyleModel",
          "model_module_version": "1.5.0",
          "state": {
            "_model_module": "@jupyter-widgets/controls",
            "_model_module_version": "1.5.0",
            "_model_name": "DescriptionStyleModel",
            "_view_count": null,
            "_view_module": "@jupyter-widgets/base",
            "_view_module_version": "1.2.0",
            "_view_name": "StyleView",
            "description_width": ""
          }
        },
        "5e6d252e3d884d619161d1e16d36bfb1": {
          "model_module": "@jupyter-widgets/controls",
          "model_name": "HBoxModel",
          "model_module_version": "1.5.0",
          "state": {
            "_dom_classes": [],
            "_model_module": "@jupyter-widgets/controls",
            "_model_module_version": "1.5.0",
            "_model_name": "HBoxModel",
            "_view_count": null,
            "_view_module": "@jupyter-widgets/controls",
            "_view_module_version": "1.5.0",
            "_view_name": "HBoxView",
            "box_style": "",
            "children": [
              "IPY_MODEL_b8349fbd14bc4736acdb9f8e5e9c6129",
              "IPY_MODEL_f3ac5ebb2e324cea81ba4ece3d9d2560",
              "IPY_MODEL_e4d5310e45f04d4d816caf4a2f22eb72"
            ],
            "layout": "IPY_MODEL_700237304c8c48bdba82558ca323b105"
          }
        },
        "b8349fbd14bc4736acdb9f8e5e9c6129": {
          "model_module": "@jupyter-widgets/controls",
          "model_name": "HTMLModel",
          "model_module_version": "1.5.0",
          "state": {
            "_dom_classes": [],
            "_model_module": "@jupyter-widgets/controls",
            "_model_module_version": "1.5.0",
            "_model_name": "HTMLModel",
            "_view_count": null,
            "_view_module": "@jupyter-widgets/controls",
            "_view_module_version": "1.5.0",
            "_view_name": "HTMLView",
            "description": "",
            "description_tooltip": null,
            "layout": "IPY_MODEL_8c5bb6f1f2af422eb7d11829f142ff0b",
            "placeholder": "​",
            "style": "IPY_MODEL_991658a86de64b418f7c43c3c231e5f5",
            "value": "vocab.txt: 100%"
          }
        },
        "f3ac5ebb2e324cea81ba4ece3d9d2560": {
          "model_module": "@jupyter-widgets/controls",
          "model_name": "FloatProgressModel",
          "model_module_version": "1.5.0",
          "state": {
            "_dom_classes": [],
            "_model_module": "@jupyter-widgets/controls",
            "_model_module_version": "1.5.0",
            "_model_name": "FloatProgressModel",
            "_view_count": null,
            "_view_module": "@jupyter-widgets/controls",
            "_view_module_version": "1.5.0",
            "_view_name": "ProgressView",
            "bar_style": "success",
            "description": "",
            "description_tooltip": null,
            "layout": "IPY_MODEL_632fbdcaa1e547fb881de66033433c95",
            "max": 231508,
            "min": 0,
            "orientation": "horizontal",
            "style": "IPY_MODEL_7759ee32bbdb478d90ce454d477582e7",
            "value": 231508
          }
        },
        "e4d5310e45f04d4d816caf4a2f22eb72": {
          "model_module": "@jupyter-widgets/controls",
          "model_name": "HTMLModel",
          "model_module_version": "1.5.0",
          "state": {
            "_dom_classes": [],
            "_model_module": "@jupyter-widgets/controls",
            "_model_module_version": "1.5.0",
            "_model_name": "HTMLModel",
            "_view_count": null,
            "_view_module": "@jupyter-widgets/controls",
            "_view_module_version": "1.5.0",
            "_view_name": "HTMLView",
            "description": "",
            "description_tooltip": null,
            "layout": "IPY_MODEL_f8de7c4a6eba4292b44cdd80ff34c654",
            "placeholder": "​",
            "style": "IPY_MODEL_872eeebb9e174a8b9d4c45f3e3d50a8f",
            "value": " 232k/232k [00:00&lt;00:00, 14.1MB/s]"
          }
        },
        "700237304c8c48bdba82558ca323b105": {
          "model_module": "@jupyter-widgets/base",
          "model_name": "LayoutModel",
          "model_module_version": "1.2.0",
          "state": {
            "_model_module": "@jupyter-widgets/base",
            "_model_module_version": "1.2.0",
            "_model_name": "LayoutModel",
            "_view_count": null,
            "_view_module": "@jupyter-widgets/base",
            "_view_module_version": "1.2.0",
            "_view_name": "LayoutView",
            "align_content": null,
            "align_items": null,
            "align_self": null,
            "border": null,
            "bottom": null,
            "display": null,
            "flex": null,
            "flex_flow": null,
            "grid_area": null,
            "grid_auto_columns": null,
            "grid_auto_flow": null,
            "grid_auto_rows": null,
            "grid_column": null,
            "grid_gap": null,
            "grid_row": null,
            "grid_template_areas": null,
            "grid_template_columns": null,
            "grid_template_rows": null,
            "height": null,
            "justify_content": null,
            "justify_items": null,
            "left": null,
            "margin": null,
            "max_height": null,
            "max_width": null,
            "min_height": null,
            "min_width": null,
            "object_fit": null,
            "object_position": null,
            "order": null,
            "overflow": null,
            "overflow_x": null,
            "overflow_y": null,
            "padding": null,
            "right": null,
            "top": null,
            "visibility": null,
            "width": null
          }
        },
        "8c5bb6f1f2af422eb7d11829f142ff0b": {
          "model_module": "@jupyter-widgets/base",
          "model_name": "LayoutModel",
          "model_module_version": "1.2.0",
          "state": {
            "_model_module": "@jupyter-widgets/base",
            "_model_module_version": "1.2.0",
            "_model_name": "LayoutModel",
            "_view_count": null,
            "_view_module": "@jupyter-widgets/base",
            "_view_module_version": "1.2.0",
            "_view_name": "LayoutView",
            "align_content": null,
            "align_items": null,
            "align_self": null,
            "border": null,
            "bottom": null,
            "display": null,
            "flex": null,
            "flex_flow": null,
            "grid_area": null,
            "grid_auto_columns": null,
            "grid_auto_flow": null,
            "grid_auto_rows": null,
            "grid_column": null,
            "grid_gap": null,
            "grid_row": null,
            "grid_template_areas": null,
            "grid_template_columns": null,
            "grid_template_rows": null,
            "height": null,
            "justify_content": null,
            "justify_items": null,
            "left": null,
            "margin": null,
            "max_height": null,
            "max_width": null,
            "min_height": null,
            "min_width": null,
            "object_fit": null,
            "object_position": null,
            "order": null,
            "overflow": null,
            "overflow_x": null,
            "overflow_y": null,
            "padding": null,
            "right": null,
            "top": null,
            "visibility": null,
            "width": null
          }
        },
        "991658a86de64b418f7c43c3c231e5f5": {
          "model_module": "@jupyter-widgets/controls",
          "model_name": "DescriptionStyleModel",
          "model_module_version": "1.5.0",
          "state": {
            "_model_module": "@jupyter-widgets/controls",
            "_model_module_version": "1.5.0",
            "_model_name": "DescriptionStyleModel",
            "_view_count": null,
            "_view_module": "@jupyter-widgets/base",
            "_view_module_version": "1.2.0",
            "_view_name": "StyleView",
            "description_width": ""
          }
        },
        "632fbdcaa1e547fb881de66033433c95": {
          "model_module": "@jupyter-widgets/base",
          "model_name": "LayoutModel",
          "model_module_version": "1.2.0",
          "state": {
            "_model_module": "@jupyter-widgets/base",
            "_model_module_version": "1.2.0",
            "_model_name": "LayoutModel",
            "_view_count": null,
            "_view_module": "@jupyter-widgets/base",
            "_view_module_version": "1.2.0",
            "_view_name": "LayoutView",
            "align_content": null,
            "align_items": null,
            "align_self": null,
            "border": null,
            "bottom": null,
            "display": null,
            "flex": null,
            "flex_flow": null,
            "grid_area": null,
            "grid_auto_columns": null,
            "grid_auto_flow": null,
            "grid_auto_rows": null,
            "grid_column": null,
            "grid_gap": null,
            "grid_row": null,
            "grid_template_areas": null,
            "grid_template_columns": null,
            "grid_template_rows": null,
            "height": null,
            "justify_content": null,
            "justify_items": null,
            "left": null,
            "margin": null,
            "max_height": null,
            "max_width": null,
            "min_height": null,
            "min_width": null,
            "object_fit": null,
            "object_position": null,
            "order": null,
            "overflow": null,
            "overflow_x": null,
            "overflow_y": null,
            "padding": null,
            "right": null,
            "top": null,
            "visibility": null,
            "width": null
          }
        },
        "7759ee32bbdb478d90ce454d477582e7": {
          "model_module": "@jupyter-widgets/controls",
          "model_name": "ProgressStyleModel",
          "model_module_version": "1.5.0",
          "state": {
            "_model_module": "@jupyter-widgets/controls",
            "_model_module_version": "1.5.0",
            "_model_name": "ProgressStyleModel",
            "_view_count": null,
            "_view_module": "@jupyter-widgets/base",
            "_view_module_version": "1.2.0",
            "_view_name": "StyleView",
            "bar_color": null,
            "description_width": ""
          }
        },
        "f8de7c4a6eba4292b44cdd80ff34c654": {
          "model_module": "@jupyter-widgets/base",
          "model_name": "LayoutModel",
          "model_module_version": "1.2.0",
          "state": {
            "_model_module": "@jupyter-widgets/base",
            "_model_module_version": "1.2.0",
            "_model_name": "LayoutModel",
            "_view_count": null,
            "_view_module": "@jupyter-widgets/base",
            "_view_module_version": "1.2.0",
            "_view_name": "LayoutView",
            "align_content": null,
            "align_items": null,
            "align_self": null,
            "border": null,
            "bottom": null,
            "display": null,
            "flex": null,
            "flex_flow": null,
            "grid_area": null,
            "grid_auto_columns": null,
            "grid_auto_flow": null,
            "grid_auto_rows": null,
            "grid_column": null,
            "grid_gap": null,
            "grid_row": null,
            "grid_template_areas": null,
            "grid_template_columns": null,
            "grid_template_rows": null,
            "height": null,
            "justify_content": null,
            "justify_items": null,
            "left": null,
            "margin": null,
            "max_height": null,
            "max_width": null,
            "min_height": null,
            "min_width": null,
            "object_fit": null,
            "object_position": null,
            "order": null,
            "overflow": null,
            "overflow_x": null,
            "overflow_y": null,
            "padding": null,
            "right": null,
            "top": null,
            "visibility": null,
            "width": null
          }
        },
        "872eeebb9e174a8b9d4c45f3e3d50a8f": {
          "model_module": "@jupyter-widgets/controls",
          "model_name": "DescriptionStyleModel",
          "model_module_version": "1.5.0",
          "state": {
            "_model_module": "@jupyter-widgets/controls",
            "_model_module_version": "1.5.0",
            "_model_name": "DescriptionStyleModel",
            "_view_count": null,
            "_view_module": "@jupyter-widgets/base",
            "_view_module_version": "1.2.0",
            "_view_name": "StyleView",
            "description_width": ""
          }
        }
      }
    }
  },
  "cells": [
    {
      "cell_type": "markdown",
      "metadata": {
        "id": "view-in-github",
        "colab_type": "text"
      },
      "source": [
        "<a href=\"https://colab.research.google.com/github/xxueewa/colab_projects/blob/main/Social_Media_Data_Analysis.ipynb\" target=\"_parent\"><img src=\"https://colab.research.google.com/assets/colab-badge.svg\" alt=\"Open In Colab\"/></a>"
      ]
    },
    {
      "cell_type": "markdown",
      "source": [
        "## Social Media Data Analysis\n",
        "### Dataset\n",
        "\n",
        "The Social Media Sentiments Analysis Dataset captures a vibrant tapestry of emotions, trends, and interactions across various social media platforms. This dataset provides a snapshot of user-generated content, encompassing text, timestamps, hashtags, countries, likes, and retweets. Each entry unveils unique stories—moments of surprise, excitement, admiration, thrill, contentment. \\\\\n",
        "Dataset Link: https://www.kaggle.com/datasets/kashishparmar02/social-media-sentiments-analysis-dataset"
      ],
      "metadata": {
        "id": "ia70BZcisC3P"
      }
    },
    {
      "cell_type": "code",
      "execution_count": 285,
      "metadata": {
        "colab": {
          "base_uri": "https://localhost:8080/",
          "height": 0
        },
        "id": "ocTsWopLmERH",
        "outputId": "bf695c17-7e11-41ab-8eec-ff2881e20ac5"
      },
      "outputs": [
        {
          "output_type": "execute_result",
          "data": {
            "text/plain": [
              "Index(['Unnamed: 0.1', 'Unnamed: 0', 'Text', 'Sentiment', 'Timestamp', 'User',\n",
              "       'Platform', 'Hashtags', 'Retweets', 'Likes', 'Country', 'Year', 'Month',\n",
              "       'Day', 'Hour'],\n",
              "      dtype='object')"
            ]
          },
          "metadata": {},
          "execution_count": 285
        }
      ],
      "source": [
        "import pandas as pd\n",
        "df = pd.read_csv(\"sentimentdataset.csv\")\n",
        "df.columns"
      ]
    },
    {
      "cell_type": "code",
      "source": [
        "df.shape"
      ],
      "metadata": {
        "colab": {
          "base_uri": "https://localhost:8080/",
          "height": 0
        },
        "id": "veA57QW-1AML",
        "outputId": "35f20383-46cc-464d-a0dd-07ed0cfafeee"
      },
      "execution_count": 5,
      "outputs": [
        {
          "output_type": "execute_result",
          "data": {
            "text/plain": [
              "(732, 15)"
            ]
          },
          "metadata": {},
          "execution_count": 5
        }
      ]
    },
    {
      "cell_type": "code",
      "source": [
        "df = df.iloc[:, 3:]\n",
        "df['Platform'] = df['Platform'].astype(pd.StringDtype())\n",
        "df.dtypes"
      ],
      "metadata": {
        "colab": {
          "base_uri": "https://localhost:8080/",
          "height": 0
        },
        "id": "NgK8dn4ILI_7",
        "outputId": "2678ef44-06ec-4565-f25e-e82e6acac191"
      },
      "execution_count": 286,
      "outputs": [
        {
          "output_type": "execute_result",
          "data": {
            "text/plain": [
              "Sentiment     object\n",
              "Timestamp     object\n",
              "User          object\n",
              "Platform      string\n",
              "Hashtags      object\n",
              "Retweets     float64\n",
              "Likes        float64\n",
              "Country       object\n",
              "Year           int64\n",
              "Month          int64\n",
              "Day            int64\n",
              "Hour           int64\n",
              "dtype: object"
            ]
          },
          "metadata": {},
          "execution_count": 286
        }
      ]
    },
    {
      "cell_type": "code",
      "source": [
        "def preprocessing(platform, origin_df):\n",
        "    df_specify = origin_df[origin_df['Platform'].str.contains(platform)]\n",
        "    df_specify['Sentiment'] = df_specify['Sentiment'].apply(lambda x: x.strip() if isinstance(x, str) else x)\n",
        "    return df_specify"
      ],
      "metadata": {
        "id": "ziYL4qRkmflB"
      },
      "execution_count": 287,
      "outputs": []
    },
    {
      "cell_type": "code",
      "source": [
        "df_twitter = preprocessing(\"Twitter\", df)\n",
        "df_instagram = preprocessing(\"Instagram\", df)\n",
        "df_facebook = preprocessing(\"Facebook\", df)"
      ],
      "metadata": {
        "id": "nbSfWfmBmigI"
      },
      "execution_count": null,
      "outputs": []
    },
    {
      "cell_type": "code",
      "source": [
        "sentiment_data_list = []\n",
        "sentiment_data_list.extend(df_twitter['Sentiment'].unique())\n",
        "sentiment_data_list.extend(df_instagram['Sentiment'].unique())\n",
        "sentiment_data_list.extend(df_facebook['Sentiment'].unique())"
      ],
      "metadata": {
        "id": "cCAQqVAvmks0"
      },
      "execution_count": 289,
      "outputs": []
    },
    {
      "cell_type": "markdown",
      "source": [
        "### Data Visualization\n",
        "Because there are too many distinct values in the sentiments values, such as 'Anger', 'Disgust', 'Admiration' it is hard for visualization and analysis. With the help of pre-trained model from huggingface, we can further classify those sentiments to two classes: 'Positive' and 'Negative'. \\\\\n",
        "Model Link: https://huggingface.co/distilbert/distilbert-base-uncased-finetuned-sst-2-english"
      ],
      "metadata": {
        "id": "Nt6FDvMKnH-R"
      }
    },
    {
      "cell_type": "code",
      "source": [
        "sentiment_data_list[:10]"
      ],
      "metadata": {
        "colab": {
          "base_uri": "https://localhost:8080/",
          "height": 0
        },
        "id": "eFDvhh2On9Ax",
        "outputId": "854ad173-1831-4982-9ee4-309ead6d2c51"
      },
      "execution_count": 24,
      "outputs": [
        {
          "output_type": "execute_result",
          "data": {
            "text/plain": [
              "['Positive',\n",
              " 'Negative',\n",
              " 'Neutral',\n",
              " 'Anger',\n",
              " 'Disgust',\n",
              " 'Love',\n",
              " 'Admiration',\n",
              " 'Disappointed',\n",
              " 'Adoration',\n",
              " 'Calmness']"
            ]
          },
          "metadata": {},
          "execution_count": 24
        }
      ]
    },
    {
      "cell_type": "code",
      "source": [
        "!pip install -q transformers\n",
        "from transformers import pipeline\n",
        "sentiment_pipeline = pipeline(\"sentiment-analysis\")"
      ],
      "metadata": {
        "id": "ebAUYWgWm3UZ",
        "colab": {
          "base_uri": "https://localhost:8080/",
          "height": 308,
          "referenced_widgets": [
            "9307d256b0424ae5b2dbfb78cb720865",
            "a91c8d3b74f643538addfe0053fd914c",
            "199ab03228cd4007975f36954ae2a3ca",
            "0d30306faead4102a12495f21f4d3a63",
            "04c10ae9910d4af8a1f65e926eee6087",
            "5254aeba5254456bbeebb1de498f8376",
            "7ebfa5e08feb45ae8ea417d1409545c7",
            "b8860410b7f94494ba7a2b75318e8127",
            "d9ee747937cf4e5c8d1cd6da7e8b4084",
            "7b1815f9ed59439496414961352b1cbe",
            "58af8c3739664aa3ad92f2c281d2020f",
            "b18436d59dea4c6ab178a82049f59b09",
            "3314e822d0524108a406f6b43627eab8",
            "282c1a610dfd485facecf3045987649b",
            "f30f73405b804734af3d5fa6f6e42dfb",
            "87e852fd66c34103bf8bc27ef952e5f6",
            "8ccb50d7521a4cd2b2cb3c0cf0c023fe",
            "1e14ad90d8714e08a8d263c2b2c733ac",
            "f595dba2df7540e8a85206dffb119f53",
            "fe68eccb19f04faca96f1506f34ac706",
            "bec5df5104c54f39853ccdd3a8cfd314",
            "0a29cead5aba466e853d0010f5e70161",
            "3c2dd8d4594c4716932a68a8e6b7ed40",
            "f51e05582c174665bffeb1f02dde649c",
            "044f7d4a6c2f449f907af3cc33f747f9",
            "3b19b48ffafb45c99883127fe86f0bb1",
            "7c90eb231b1e41448467ffb41a2baa98",
            "307fe0d01c0a4519b6c6ccff12ecde42",
            "036cf84357324fafb42f8324117845ae",
            "099e0ceaf3754c75a22e7f53692cd9c9",
            "0b664bfe475b41959b61f406ea0722ae",
            "ea7071dc2f9645a389deafa4e72d1103",
            "f3d48930dd4e444a8ed3f563fac8cbee",
            "5e6d252e3d884d619161d1e16d36bfb1",
            "b8349fbd14bc4736acdb9f8e5e9c6129",
            "f3ac5ebb2e324cea81ba4ece3d9d2560",
            "e4d5310e45f04d4d816caf4a2f22eb72",
            "700237304c8c48bdba82558ca323b105",
            "8c5bb6f1f2af422eb7d11829f142ff0b",
            "991658a86de64b418f7c43c3c231e5f5",
            "632fbdcaa1e547fb881de66033433c95",
            "7759ee32bbdb478d90ce454d477582e7",
            "f8de7c4a6eba4292b44cdd80ff34c654",
            "872eeebb9e174a8b9d4c45f3e3d50a8f"
          ]
        },
        "outputId": "329555a4-a592-49b4-c774-070b2a369acd"
      },
      "execution_count": 290,
      "outputs": [
        {
          "output_type": "stream",
          "name": "stderr",
          "text": [
            "No model was supplied, defaulted to distilbert/distilbert-base-uncased-finetuned-sst-2-english and revision af0f99b (https://huggingface.co/distilbert/distilbert-base-uncased-finetuned-sst-2-english).\n",
            "Using a pipeline without specifying a model name and revision in production is not recommended.\n",
            "/usr/local/lib/python3.10/dist-packages/huggingface_hub/utils/_token.py:88: UserWarning: \n",
            "The secret `HF_TOKEN` does not exist in your Colab secrets.\n",
            "To authenticate with the Hugging Face Hub, create a token in your settings tab (https://huggingface.co/settings/tokens), set it as secret in your Google Colab and restart your session.\n",
            "You will be able to reuse this secret in all of your notebooks.\n",
            "Please note that authentication is recommended but still optional to access public models or datasets.\n",
            "  warnings.warn(\n"
          ]
        },
        {
          "output_type": "display_data",
          "data": {
            "text/plain": [
              "config.json:   0%|          | 0.00/629 [00:00<?, ?B/s]"
            ],
            "application/vnd.jupyter.widget-view+json": {
              "version_major": 2,
              "version_minor": 0,
              "model_id": "9307d256b0424ae5b2dbfb78cb720865"
            }
          },
          "metadata": {}
        },
        {
          "output_type": "display_data",
          "data": {
            "text/plain": [
              "model.safetensors:   0%|          | 0.00/268M [00:00<?, ?B/s]"
            ],
            "application/vnd.jupyter.widget-view+json": {
              "version_major": 2,
              "version_minor": 0,
              "model_id": "b18436d59dea4c6ab178a82049f59b09"
            }
          },
          "metadata": {}
        },
        {
          "output_type": "display_data",
          "data": {
            "text/plain": [
              "tokenizer_config.json:   0%|          | 0.00/48.0 [00:00<?, ?B/s]"
            ],
            "application/vnd.jupyter.widget-view+json": {
              "version_major": 2,
              "version_minor": 0,
              "model_id": "3c2dd8d4594c4716932a68a8e6b7ed40"
            }
          },
          "metadata": {}
        },
        {
          "output_type": "display_data",
          "data": {
            "text/plain": [
              "vocab.txt:   0%|          | 0.00/232k [00:00<?, ?B/s]"
            ],
            "application/vnd.jupyter.widget-view+json": {
              "version_major": 2,
              "version_minor": 0,
              "model_id": "5e6d252e3d884d619161d1e16d36bfb1"
            }
          },
          "metadata": {}
        }
      ]
    },
    {
      "cell_type": "code",
      "source": [
        "result_mapping = {}\n",
        "for word in sentiment_data_list:\n",
        "  result_mapping[word] = sentiment_pipeline(word)[0]['label']\n",
        "result_mapping"
      ],
      "metadata": {
        "colab": {
          "base_uri": "https://localhost:8080/",
          "height": 0
        },
        "id": "MkwxZbB3nCMB",
        "outputId": "4c3a793d-60d0-4968-e6bb-ed4f27156fd5"
      },
      "execution_count": 301,
      "outputs": [
        {
          "output_type": "execute_result",
          "data": {
            "text/plain": [
              "{'Positive': 'POSITIVE',\n",
              " 'Negative': 'NEGATIVE',\n",
              " 'Neutral': 'NEGATIVE',\n",
              " 'Anger': 'NEGATIVE',\n",
              " 'Disgust': 'NEGATIVE',\n",
              " 'Love': 'POSITIVE',\n",
              " 'Admiration': 'POSITIVE',\n",
              " 'Disappointed': 'NEGATIVE',\n",
              " 'Adoration': 'POSITIVE',\n",
              " 'Calmness': 'POSITIVE',\n",
              " 'Kind': 'POSITIVE',\n",
              " 'Acceptance': 'POSITIVE',\n",
              " 'Bitter': 'NEGATIVE',\n",
              " 'Excitement': 'POSITIVE',\n",
              " 'Shame': 'NEGATIVE',\n",
              " 'Elation': 'POSITIVE',\n",
              " 'Serenity': 'POSITIVE',\n",
              " 'Empowerment': 'POSITIVE',\n",
              " 'Arousal': 'POSITIVE',\n",
              " 'Reverence': 'POSITIVE',\n",
              " 'Contentment': 'POSITIVE',\n",
              " 'Hope': 'POSITIVE',\n",
              " 'Tenderness': 'POSITIVE',\n",
              " 'Fulfillment': 'POSITIVE',\n",
              " 'Despair': 'NEGATIVE',\n",
              " 'Jealousy': 'NEGATIVE',\n",
              " 'Boredom': 'NEGATIVE',\n",
              " 'Helplessness': 'NEGATIVE',\n",
              " 'Loneliness': 'NEGATIVE',\n",
              " 'Frustration': 'NEGATIVE',\n",
              " 'Intimidation': 'NEGATIVE',\n",
              " 'Regret': 'NEGATIVE',\n",
              " 'Grief': 'NEGATIVE',\n",
              " 'Resentment': 'NEGATIVE',\n",
              " 'Curiosity': 'POSITIVE',\n",
              " 'Numbness': 'NEGATIVE',\n",
              " 'Ambivalence': 'NEGATIVE',\n",
              " 'Confusion': 'NEGATIVE',\n",
              " 'Nostalgia': 'POSITIVE',\n",
              " 'Determination': 'POSITIVE',\n",
              " 'Indifference': 'NEGATIVE',\n",
              " 'Melancholy': 'NEGATIVE',\n",
              " 'Zest': 'POSITIVE',\n",
              " 'Proud': 'POSITIVE',\n",
              " 'Compassionate': 'POSITIVE',\n",
              " 'Inspired': 'POSITIVE',\n",
              " 'Grateful': 'POSITIVE',\n",
              " 'Free-spirited': 'POSITIVE',\n",
              " 'Hopeful': 'POSITIVE',\n",
              " 'Apprehensive': 'NEGATIVE',\n",
              " 'Devastated': 'NEGATIVE',\n",
              " 'Dismissive': 'NEGATIVE',\n",
              " 'Fearful': 'NEGATIVE',\n",
              " 'Jealous': 'NEGATIVE',\n",
              " 'Envious': 'POSITIVE',\n",
              " 'Bitterness': 'NEGATIVE',\n",
              " 'Frustrated': 'NEGATIVE',\n",
              " 'Gratitude': 'POSITIVE',\n",
              " 'Overjoyed': 'POSITIVE',\n",
              " 'Contemplation': 'POSITIVE',\n",
              " 'Satisfaction': 'POSITIVE',\n",
              " 'Anticipation': 'POSITIVE',\n",
              " 'Appreciation': 'POSITIVE',\n",
              " 'Enthusiasm': 'POSITIVE',\n",
              " 'Wonderment': 'POSITIVE',\n",
              " 'Happiness': 'POSITIVE',\n",
              " 'Intrigue': 'POSITIVE',\n",
              " 'DreamChaser': 'POSITIVE',\n",
              " 'Pensive': 'POSITIVE',\n",
              " 'Creativity': 'POSITIVE',\n",
              " 'Rejuvenation': 'POSITIVE',\n",
              " 'Adventure': 'POSITIVE',\n",
              " 'Melodic': 'POSITIVE',\n",
              " 'Freedom': 'POSITIVE',\n",
              " 'Reflection': 'POSITIVE',\n",
              " 'ArtisticBurst': 'POSITIVE',\n",
              " 'CulinaryOdyssey': 'POSITIVE',\n",
              " 'Immersion': 'POSITIVE',\n",
              " 'Betrayal': 'NEGATIVE',\n",
              " 'Disappointment': 'NEGATIVE',\n",
              " 'Sorrow': 'NEGATIVE',\n",
              " 'Ruins': 'NEGATIVE',\n",
              " 'Desolation': 'NEGATIVE',\n",
              " 'Heartbreak': 'NEGATIVE',\n",
              " 'Resilience': 'POSITIVE',\n",
              " 'Loss': 'NEGATIVE',\n",
              " 'Joy': 'POSITIVE',\n",
              " 'Surprise': 'POSITIVE',\n",
              " 'Inspiration': 'POSITIVE',\n",
              " 'Exploration': 'POSITIVE',\n",
              " 'Amazement': 'POSITIVE',\n",
              " 'Captivation': 'POSITIVE',\n",
              " 'Awe': 'POSITIVE',\n",
              " 'Energy': 'POSITIVE',\n",
              " 'Charm': 'POSITIVE',\n",
              " 'Pride': 'POSITIVE',\n",
              " 'Iconic': 'POSITIVE',\n",
              " 'Thrill': 'POSITIVE',\n",
              " 'Obstacle': 'NEGATIVE',\n",
              " 'Renewed Effort': 'POSITIVE',\n",
              " 'Breakthrough': 'POSITIVE',\n",
              " 'Envisioning History': 'POSITIVE',\n",
              " 'Mesmerizing': 'POSITIVE',\n",
              " 'Thrilling Journey': 'POSITIVE',\n",
              " 'Creative Inspiration': 'POSITIVE',\n",
              " 'Whispers of the Past': 'NEGATIVE',\n",
              " 'Embarrassed': 'NEGATIVE',\n",
              " 'Mischievous': 'POSITIVE',\n",
              " 'Sad': 'NEGATIVE',\n",
              " 'Bad': 'NEGATIVE',\n",
              " 'Hate': 'NEGATIVE',\n",
              " 'Happy': 'POSITIVE',\n",
              " 'Fear': 'NEGATIVE',\n",
              " 'Amusement': 'POSITIVE',\n",
              " 'Affection': 'POSITIVE',\n",
              " 'Euphoria': 'POSITIVE',\n",
              " 'Compassion': 'POSITIVE',\n",
              " 'Anxiety': 'NEGATIVE',\n",
              " 'Envy': 'NEGATIVE',\n",
              " 'Empathetic': 'POSITIVE',\n",
              " 'Confident': 'POSITIVE',\n",
              " 'Playful': 'POSITIVE',\n",
              " 'Yearning': 'NEGATIVE',\n",
              " 'Overwhelmed': 'NEGATIVE',\n",
              " 'Bittersweet': 'POSITIVE',\n",
              " 'JoyfulReunion': 'POSITIVE',\n",
              " 'Blessed': 'POSITIVE',\n",
              " 'Confidence': 'POSITIVE',\n",
              " 'Optimism': 'POSITIVE',\n",
              " 'Enchantment': 'POSITIVE',\n",
              " 'Mindfulness': 'POSITIVE',\n",
              " 'Whimsy': 'POSITIVE',\n",
              " 'Harmony': 'POSITIVE',\n",
              " 'Wonder': 'POSITIVE',\n",
              " 'Coziness': 'NEGATIVE',\n",
              " 'InnerJourney': 'POSITIVE',\n",
              " 'Marvel': 'POSITIVE',\n",
              " 'EmotionalStorm': 'POSITIVE',\n",
              " 'Isolation': 'NEGATIVE',\n",
              " 'Exhaustion': 'NEGATIVE',\n",
              " 'Desperation': 'NEGATIVE',\n",
              " 'Heartache': 'NEGATIVE',\n",
              " 'Solitude': 'NEGATIVE',\n",
              " 'Positivity': 'POSITIVE',\n",
              " 'Friendship': 'POSITIVE',\n",
              " 'Success': 'POSITIVE',\n",
              " 'Romance': 'POSITIVE',\n",
              " 'Grandeur': 'POSITIVE',\n",
              " 'Emotion': 'POSITIVE',\n",
              " 'Celebration': 'POSITIVE',\n",
              " 'Colorful': 'POSITIVE',\n",
              " 'Connection': 'POSITIVE',\n",
              " 'Journey': 'POSITIVE',\n",
              " 'Touched': 'POSITIVE',\n",
              " 'Heartwarming': 'POSITIVE',\n",
              " 'Sympathy': 'NEGATIVE',\n",
              " 'Miscalculation': 'NEGATIVE',\n",
              " 'Tranquility': 'POSITIVE',\n",
              " 'Joy in Baking': 'POSITIVE',\n",
              " 'Vibrancy': 'POSITIVE',\n",
              " 'Culinary Adventure': 'POSITIVE',\n",
              " \"Nature's Beauty\": 'POSITIVE',\n",
              " 'Runway Creativity': 'POSITIVE',\n",
              " 'Relief': 'POSITIVE',\n",
              " 'Sadness': 'NEGATIVE',\n",
              " 'Enjoyment': 'POSITIVE',\n",
              " 'Motivation': 'POSITIVE',\n",
              " 'Accomplishment': 'POSITIVE',\n",
              " 'PlayfulJoy': 'POSITIVE',\n",
              " 'Elegance': 'POSITIVE',\n",
              " 'Radiance': 'POSITIVE',\n",
              " 'FestiveJoy': 'POSITIVE',\n",
              " 'Dazzle': 'POSITIVE',\n",
              " 'Adrenaline': 'POSITIVE',\n",
              " 'Spark': 'POSITIVE',\n",
              " 'Suffering': 'NEGATIVE',\n",
              " 'LostLove': 'NEGATIVE',\n",
              " 'Darkness': 'NEGATIVE',\n",
              " 'Kindness': 'POSITIVE',\n",
              " 'Ecstasy': 'POSITIVE',\n",
              " 'Hypnotic': 'POSITIVE',\n",
              " 'Engagement': 'POSITIVE',\n",
              " 'Suspense': 'POSITIVE',\n",
              " 'Triumph': 'POSITIVE',\n",
              " 'Pressure': 'NEGATIVE',\n",
              " 'Challenge': 'POSITIVE',\n",
              " 'Solace': 'POSITIVE',\n",
              " 'Imagination': 'POSITIVE',\n",
              " 'Winter Magic': 'POSITIVE',\n",
              " 'Celestial Wonder': 'POSITIVE',\n",
              " \"Ocean's Freedom\": 'POSITIVE'}"
            ]
          },
          "metadata": {},
          "execution_count": 301
        }
      ]
    },
    {
      "cell_type": "code",
      "source": [
        "def replaceWord(input_df, result_mapping):\n",
        "  for idx in input_df.index:\n",
        "    input_df['Sentiment'][idx] = result_mapping[str(input_df['Sentiment'][idx])]"
      ],
      "metadata": {
        "id": "pIFoIGK9nkxz"
      },
      "execution_count": 302,
      "outputs": []
    },
    {
      "cell_type": "code",
      "source": [
        "replaceWord(df_twitter, result_mapping)\n",
        "df_twitter.head(5)"
      ],
      "metadata": {
        "colab": {
          "base_uri": "https://localhost:8080/",
          "height": 293
        },
        "id": "PCjJxzkxpomp",
        "outputId": "56ec51ef-2d67-481f-d66f-9b78a6a78292"
      },
      "execution_count": 306,
      "outputs": [
        {
          "output_type": "execute_result",
          "data": {
            "text/plain": [
              "   Sentiment            Timestamp            User    Platform  \\\n",
              "0   POSITIVE  2023-01-15 12:30:00   User123         Twitter     \n",
              "1   NEGATIVE  2023-01-15 08:45:00   CommuterX       Twitter     \n",
              "5   POSITIVE  2023-01-16 09:10:00   GratitudeNow    Twitter     \n",
              "8   NEGATIVE  2023-01-17 08:00:00   DebateTalk      Twitter     \n",
              "11  NEGATIVE  2023-01-18 10:30:00   WellnessCheck   Twitter     \n",
              "\n",
              "                                      Hashtags  Retweets  Likes     Country  \\\n",
              "0    #Nature #Park                                  15.0   30.0   USA         \n",
              "1    #Traffic #Morning                               5.0   10.0   Canada      \n",
              "5      #Gratitude #PositiveVibes                    25.0   50.0   India       \n",
              "8     #Politics #Debate                             30.0   60.0   USA         \n",
              "11    #SickDay #Health                               7.0   15.0   Canada      \n",
              "\n",
              "    Year  Month  Day  Hour  \n",
              "0   2023      1   15    12  \n",
              "1   2023      1   15     8  \n",
              "5   2023      1   16     9  \n",
              "8   2023      1   17     8  \n",
              "11  2023      1   18    10  "
            ],
            "text/html": [
              "\n",
              "  <div id=\"df-32699091-0229-4a06-8527-225f07da711f\" class=\"colab-df-container\">\n",
              "    <div>\n",
              "<style scoped>\n",
              "    .dataframe tbody tr th:only-of-type {\n",
              "        vertical-align: middle;\n",
              "    }\n",
              "\n",
              "    .dataframe tbody tr th {\n",
              "        vertical-align: top;\n",
              "    }\n",
              "\n",
              "    .dataframe thead th {\n",
              "        text-align: right;\n",
              "    }\n",
              "</style>\n",
              "<table border=\"1\" class=\"dataframe\">\n",
              "  <thead>\n",
              "    <tr style=\"text-align: right;\">\n",
              "      <th></th>\n",
              "      <th>Sentiment</th>\n",
              "      <th>Timestamp</th>\n",
              "      <th>User</th>\n",
              "      <th>Platform</th>\n",
              "      <th>Hashtags</th>\n",
              "      <th>Retweets</th>\n",
              "      <th>Likes</th>\n",
              "      <th>Country</th>\n",
              "      <th>Year</th>\n",
              "      <th>Month</th>\n",
              "      <th>Day</th>\n",
              "      <th>Hour</th>\n",
              "    </tr>\n",
              "  </thead>\n",
              "  <tbody>\n",
              "    <tr>\n",
              "      <th>0</th>\n",
              "      <td>POSITIVE</td>\n",
              "      <td>2023-01-15 12:30:00</td>\n",
              "      <td>User123</td>\n",
              "      <td>Twitter</td>\n",
              "      <td>#Nature #Park</td>\n",
              "      <td>15.0</td>\n",
              "      <td>30.0</td>\n",
              "      <td>USA</td>\n",
              "      <td>2023</td>\n",
              "      <td>1</td>\n",
              "      <td>15</td>\n",
              "      <td>12</td>\n",
              "    </tr>\n",
              "    <tr>\n",
              "      <th>1</th>\n",
              "      <td>NEGATIVE</td>\n",
              "      <td>2023-01-15 08:45:00</td>\n",
              "      <td>CommuterX</td>\n",
              "      <td>Twitter</td>\n",
              "      <td>#Traffic #Morning</td>\n",
              "      <td>5.0</td>\n",
              "      <td>10.0</td>\n",
              "      <td>Canada</td>\n",
              "      <td>2023</td>\n",
              "      <td>1</td>\n",
              "      <td>15</td>\n",
              "      <td>8</td>\n",
              "    </tr>\n",
              "    <tr>\n",
              "      <th>5</th>\n",
              "      <td>POSITIVE</td>\n",
              "      <td>2023-01-16 09:10:00</td>\n",
              "      <td>GratitudeNow</td>\n",
              "      <td>Twitter</td>\n",
              "      <td>#Gratitude #PositiveVibes</td>\n",
              "      <td>25.0</td>\n",
              "      <td>50.0</td>\n",
              "      <td>India</td>\n",
              "      <td>2023</td>\n",
              "      <td>1</td>\n",
              "      <td>16</td>\n",
              "      <td>9</td>\n",
              "    </tr>\n",
              "    <tr>\n",
              "      <th>8</th>\n",
              "      <td>NEGATIVE</td>\n",
              "      <td>2023-01-17 08:00:00</td>\n",
              "      <td>DebateTalk</td>\n",
              "      <td>Twitter</td>\n",
              "      <td>#Politics #Debate</td>\n",
              "      <td>30.0</td>\n",
              "      <td>60.0</td>\n",
              "      <td>USA</td>\n",
              "      <td>2023</td>\n",
              "      <td>1</td>\n",
              "      <td>17</td>\n",
              "      <td>8</td>\n",
              "    </tr>\n",
              "    <tr>\n",
              "      <th>11</th>\n",
              "      <td>NEGATIVE</td>\n",
              "      <td>2023-01-18 10:30:00</td>\n",
              "      <td>WellnessCheck</td>\n",
              "      <td>Twitter</td>\n",
              "      <td>#SickDay #Health</td>\n",
              "      <td>7.0</td>\n",
              "      <td>15.0</td>\n",
              "      <td>Canada</td>\n",
              "      <td>2023</td>\n",
              "      <td>1</td>\n",
              "      <td>18</td>\n",
              "      <td>10</td>\n",
              "    </tr>\n",
              "  </tbody>\n",
              "</table>\n",
              "</div>\n",
              "    <div class=\"colab-df-buttons\">\n",
              "\n",
              "  <div class=\"colab-df-container\">\n",
              "    <button class=\"colab-df-convert\" onclick=\"convertToInteractive('df-32699091-0229-4a06-8527-225f07da711f')\"\n",
              "            title=\"Convert this dataframe to an interactive table.\"\n",
              "            style=\"display:none;\">\n",
              "\n",
              "  <svg xmlns=\"http://www.w3.org/2000/svg\" height=\"24px\" viewBox=\"0 -960 960 960\">\n",
              "    <path d=\"M120-120v-720h720v720H120Zm60-500h600v-160H180v160Zm220 220h160v-160H400v160Zm0 220h160v-160H400v160ZM180-400h160v-160H180v160Zm440 0h160v-160H620v160ZM180-180h160v-160H180v160Zm440 0h160v-160H620v160Z\"/>\n",
              "  </svg>\n",
              "    </button>\n",
              "\n",
              "  <style>\n",
              "    .colab-df-container {\n",
              "      display:flex;\n",
              "      gap: 12px;\n",
              "    }\n",
              "\n",
              "    .colab-df-convert {\n",
              "      background-color: #E8F0FE;\n",
              "      border: none;\n",
              "      border-radius: 50%;\n",
              "      cursor: pointer;\n",
              "      display: none;\n",
              "      fill: #1967D2;\n",
              "      height: 32px;\n",
              "      padding: 0 0 0 0;\n",
              "      width: 32px;\n",
              "    }\n",
              "\n",
              "    .colab-df-convert:hover {\n",
              "      background-color: #E2EBFA;\n",
              "      box-shadow: 0px 1px 2px rgba(60, 64, 67, 0.3), 0px 1px 3px 1px rgba(60, 64, 67, 0.15);\n",
              "      fill: #174EA6;\n",
              "    }\n",
              "\n",
              "    .colab-df-buttons div {\n",
              "      margin-bottom: 4px;\n",
              "    }\n",
              "\n",
              "    [theme=dark] .colab-df-convert {\n",
              "      background-color: #3B4455;\n",
              "      fill: #D2E3FC;\n",
              "    }\n",
              "\n",
              "    [theme=dark] .colab-df-convert:hover {\n",
              "      background-color: #434B5C;\n",
              "      box-shadow: 0px 1px 3px 1px rgba(0, 0, 0, 0.15);\n",
              "      filter: drop-shadow(0px 1px 2px rgba(0, 0, 0, 0.3));\n",
              "      fill: #FFFFFF;\n",
              "    }\n",
              "  </style>\n",
              "\n",
              "    <script>\n",
              "      const buttonEl =\n",
              "        document.querySelector('#df-32699091-0229-4a06-8527-225f07da711f button.colab-df-convert');\n",
              "      buttonEl.style.display =\n",
              "        google.colab.kernel.accessAllowed ? 'block' : 'none';\n",
              "\n",
              "      async function convertToInteractive(key) {\n",
              "        const element = document.querySelector('#df-32699091-0229-4a06-8527-225f07da711f');\n",
              "        const dataTable =\n",
              "          await google.colab.kernel.invokeFunction('convertToInteractive',\n",
              "                                                    [key], {});\n",
              "        if (!dataTable) return;\n",
              "\n",
              "        const docLinkHtml = 'Like what you see? Visit the ' +\n",
              "          '<a target=\"_blank\" href=https://colab.research.google.com/notebooks/data_table.ipynb>data table notebook</a>'\n",
              "          + ' to learn more about interactive tables.';\n",
              "        element.innerHTML = '';\n",
              "        dataTable['output_type'] = 'display_data';\n",
              "        await google.colab.output.renderOutput(dataTable, element);\n",
              "        const docLink = document.createElement('div');\n",
              "        docLink.innerHTML = docLinkHtml;\n",
              "        element.appendChild(docLink);\n",
              "      }\n",
              "    </script>\n",
              "  </div>\n",
              "\n",
              "\n",
              "<div id=\"df-ab37c701-d842-46c0-b3ef-1b12dfee304c\">\n",
              "  <button class=\"colab-df-quickchart\" onclick=\"quickchart('df-ab37c701-d842-46c0-b3ef-1b12dfee304c')\"\n",
              "            title=\"Suggest charts\"\n",
              "            style=\"display:none;\">\n",
              "\n",
              "<svg xmlns=\"http://www.w3.org/2000/svg\" height=\"24px\"viewBox=\"0 0 24 24\"\n",
              "     width=\"24px\">\n",
              "    <g>\n",
              "        <path d=\"M19 3H5c-1.1 0-2 .9-2 2v14c0 1.1.9 2 2 2h14c1.1 0 2-.9 2-2V5c0-1.1-.9-2-2-2zM9 17H7v-7h2v7zm4 0h-2V7h2v10zm4 0h-2v-4h2v4z\"/>\n",
              "    </g>\n",
              "</svg>\n",
              "  </button>\n",
              "\n",
              "<style>\n",
              "  .colab-df-quickchart {\n",
              "      --bg-color: #E8F0FE;\n",
              "      --fill-color: #1967D2;\n",
              "      --hover-bg-color: #E2EBFA;\n",
              "      --hover-fill-color: #174EA6;\n",
              "      --disabled-fill-color: #AAA;\n",
              "      --disabled-bg-color: #DDD;\n",
              "  }\n",
              "\n",
              "  [theme=dark] .colab-df-quickchart {\n",
              "      --bg-color: #3B4455;\n",
              "      --fill-color: #D2E3FC;\n",
              "      --hover-bg-color: #434B5C;\n",
              "      --hover-fill-color: #FFFFFF;\n",
              "      --disabled-bg-color: #3B4455;\n",
              "      --disabled-fill-color: #666;\n",
              "  }\n",
              "\n",
              "  .colab-df-quickchart {\n",
              "    background-color: var(--bg-color);\n",
              "    border: none;\n",
              "    border-radius: 50%;\n",
              "    cursor: pointer;\n",
              "    display: none;\n",
              "    fill: var(--fill-color);\n",
              "    height: 32px;\n",
              "    padding: 0;\n",
              "    width: 32px;\n",
              "  }\n",
              "\n",
              "  .colab-df-quickchart:hover {\n",
              "    background-color: var(--hover-bg-color);\n",
              "    box-shadow: 0 1px 2px rgba(60, 64, 67, 0.3), 0 1px 3px 1px rgba(60, 64, 67, 0.15);\n",
              "    fill: var(--button-hover-fill-color);\n",
              "  }\n",
              "\n",
              "  .colab-df-quickchart-complete:disabled,\n",
              "  .colab-df-quickchart-complete:disabled:hover {\n",
              "    background-color: var(--disabled-bg-color);\n",
              "    fill: var(--disabled-fill-color);\n",
              "    box-shadow: none;\n",
              "  }\n",
              "\n",
              "  .colab-df-spinner {\n",
              "    border: 2px solid var(--fill-color);\n",
              "    border-color: transparent;\n",
              "    border-bottom-color: var(--fill-color);\n",
              "    animation:\n",
              "      spin 1s steps(1) infinite;\n",
              "  }\n",
              "\n",
              "  @keyframes spin {\n",
              "    0% {\n",
              "      border-color: transparent;\n",
              "      border-bottom-color: var(--fill-color);\n",
              "      border-left-color: var(--fill-color);\n",
              "    }\n",
              "    20% {\n",
              "      border-color: transparent;\n",
              "      border-left-color: var(--fill-color);\n",
              "      border-top-color: var(--fill-color);\n",
              "    }\n",
              "    30% {\n",
              "      border-color: transparent;\n",
              "      border-left-color: var(--fill-color);\n",
              "      border-top-color: var(--fill-color);\n",
              "      border-right-color: var(--fill-color);\n",
              "    }\n",
              "    40% {\n",
              "      border-color: transparent;\n",
              "      border-right-color: var(--fill-color);\n",
              "      border-top-color: var(--fill-color);\n",
              "    }\n",
              "    60% {\n",
              "      border-color: transparent;\n",
              "      border-right-color: var(--fill-color);\n",
              "    }\n",
              "    80% {\n",
              "      border-color: transparent;\n",
              "      border-right-color: var(--fill-color);\n",
              "      border-bottom-color: var(--fill-color);\n",
              "    }\n",
              "    90% {\n",
              "      border-color: transparent;\n",
              "      border-bottom-color: var(--fill-color);\n",
              "    }\n",
              "  }\n",
              "</style>\n",
              "\n",
              "  <script>\n",
              "    async function quickchart(key) {\n",
              "      const quickchartButtonEl =\n",
              "        document.querySelector('#' + key + ' button');\n",
              "      quickchartButtonEl.disabled = true;  // To prevent multiple clicks.\n",
              "      quickchartButtonEl.classList.add('colab-df-spinner');\n",
              "      try {\n",
              "        const charts = await google.colab.kernel.invokeFunction(\n",
              "            'suggestCharts', [key], {});\n",
              "      } catch (error) {\n",
              "        console.error('Error during call to suggestCharts:', error);\n",
              "      }\n",
              "      quickchartButtonEl.classList.remove('colab-df-spinner');\n",
              "      quickchartButtonEl.classList.add('colab-df-quickchart-complete');\n",
              "    }\n",
              "    (() => {\n",
              "      let quickchartButtonEl =\n",
              "        document.querySelector('#df-ab37c701-d842-46c0-b3ef-1b12dfee304c button');\n",
              "      quickchartButtonEl.style.display =\n",
              "        google.colab.kernel.accessAllowed ? 'block' : 'none';\n",
              "    })();\n",
              "  </script>\n",
              "</div>\n",
              "\n",
              "    </div>\n",
              "  </div>\n"
            ],
            "application/vnd.google.colaboratory.intrinsic+json": {
              "type": "dataframe",
              "variable_name": "df_twitter",
              "summary": "{\n  \"name\": \"df_twitter\",\n  \"rows\": 243,\n  \"fields\": [\n    {\n      \"column\": \"Sentiment\",\n      \"properties\": {\n        \"dtype\": \"string\",\n        \"num_unique_values\": 2,\n        \"samples\": [\n          \"NEGATIVE\",\n          \"POSITIVE\"\n        ],\n        \"semantic_type\": \"\",\n        \"description\": \"\"\n      }\n    },\n    {\n      \"column\": \"Timestamp\",\n      \"properties\": {\n        \"dtype\": \"object\",\n        \"num_unique_values\": 228,\n        \"samples\": [\n          \"2023-09-17 20:45:00\",\n          \"2021-08-10 14:00:00\"\n        ],\n        \"semantic_type\": \"\",\n        \"description\": \"\"\n      }\n    },\n    {\n      \"column\": \"User\",\n      \"properties\": {\n        \"dtype\": \"string\",\n        \"num_unique_values\": 233,\n        \"samples\": [\n          \" CloudCaretaker \",\n          \" ClassroomBlunderHighSchool \"\n        ],\n        \"semantic_type\": \"\",\n        \"description\": \"\"\n      }\n    },\n    {\n      \"column\": \"Platform\",\n      \"properties\": {\n        \"dtype\": \"string\",\n        \"num_unique_values\": 2,\n        \"samples\": [\n          \" Twitter \",\n          \" Twitter  \"\n        ],\n        \"semantic_type\": \"\",\n        \"description\": \"\"\n      }\n    },\n    {\n      \"column\": \"Hashtags\",\n      \"properties\": {\n        \"dtype\": \"string\",\n        \"num_unique_values\": 235,\n        \"samples\": [\n          \" #Confusion #ThoughtLabyrinth              \",\n          \" #SkaterLife #HighSchoolSkater \"\n        ],\n        \"semantic_type\": \"\",\n        \"description\": \"\"\n      }\n    },\n    {\n      \"column\": \"Retweets\",\n      \"properties\": {\n        \"dtype\": \"number\",\n        \"std\": 6.6361278906925625,\n        \"min\": 5.0,\n        \"max\": 40.0,\n        \"num_unique_values\": 25,\n        \"samples\": [\n          28.0,\n          19.0\n        ],\n        \"semantic_type\": \"\",\n        \"description\": \"\"\n      }\n    },\n    {\n      \"column\": \"Likes\",\n      \"properties\": {\n        \"dtype\": \"number\",\n        \"std\": 13.25744524546951,\n        \"min\": 10.0,\n        \"max\": 80.0,\n        \"num_unique_values\": 28,\n        \"samples\": [\n          25.0,\n          48.0\n        ],\n        \"semantic_type\": \"\",\n        \"description\": \"\"\n      }\n    },\n    {\n      \"column\": \"Country\",\n      \"properties\": {\n        \"dtype\": \"category\",\n        \"num_unique_values\": 61,\n        \"samples\": [\n          \" USA      \",\n          \" UK         \"\n        ],\n        \"semantic_type\": \"\",\n        \"description\": \"\"\n      }\n    },\n    {\n      \"column\": \"Year\",\n      \"properties\": {\n        \"dtype\": \"number\",\n        \"std\": 2,\n        \"min\": 2010,\n        \"max\": 2023,\n        \"num_unique_values\": 13,\n        \"samples\": [\n          2020,\n          2018\n        ],\n        \"semantic_type\": \"\",\n        \"description\": \"\"\n      }\n    },\n    {\n      \"column\": \"Month\",\n      \"properties\": {\n        \"dtype\": \"number\",\n        \"std\": 3,\n        \"min\": 1,\n        \"max\": 12,\n        \"num_unique_values\": 12,\n        \"samples\": [\n          7,\n          6\n        ],\n        \"semantic_type\": \"\",\n        \"description\": \"\"\n      }\n    },\n    {\n      \"column\": \"Day\",\n      \"properties\": {\n        \"dtype\": \"number\",\n        \"std\": 8,\n        \"min\": 1,\n        \"max\": 31,\n        \"num_unique_values\": 30,\n        \"samples\": [\n          7,\n          31\n        ],\n        \"semantic_type\": \"\",\n        \"description\": \"\"\n      }\n    },\n    {\n      \"column\": \"Hour\",\n      \"properties\": {\n        \"dtype\": \"number\",\n        \"std\": 4,\n        \"min\": 0,\n        \"max\": 23,\n        \"num_unique_values\": 19,\n        \"samples\": [\n          12,\n          11\n        ],\n        \"semantic_type\": \"\",\n        \"description\": \"\"\n      }\n    }\n  ]\n}"
            }
          },
          "metadata": {},
          "execution_count": 306
        }
      ]
    },
    {
      "cell_type": "code",
      "source": [
        "replaceWord(df_instagram, result_mapping)\n",
        "df_instagram.head(5)"
      ],
      "metadata": {
        "id": "XyQhZJIiqD7v"
      },
      "execution_count": null,
      "outputs": []
    },
    {
      "cell_type": "code",
      "source": [
        "replaceWord(df_facebook, result_mapping)\n",
        "df_facebook.head(5)"
      ],
      "metadata": {
        "id": "rVgVvymiqRos"
      },
      "execution_count": null,
      "outputs": []
    },
    {
      "cell_type": "markdown",
      "source": [
        "### Visualization\n",
        "#### Sentiments Frequency"
      ],
      "metadata": {
        "id": "uLN3D_rPIAIt"
      }
    },
    {
      "cell_type": "code",
      "source": [
        "import matplotlib.pyplot as plt\n",
        "\n",
        "def plot(df, title):\n",
        "    plt.hist(df.Sentiment, bins=30, color='skyblue', edgecolor='black')\n",
        "\n",
        "    # Adding labels and title\n",
        "    plt.xlabel('Sentiment')\n",
        "    plt.ylabel('Frequency')\n",
        "    plt.title('Sentiment Frequency_'+title)\n",
        "\n",
        "    # Display the plot\n",
        "    plt.show()"
      ],
      "metadata": {
        "id": "Jr6NMhehmo3T"
      },
      "execution_count": 307,
      "outputs": []
    },
    {
      "cell_type": "code",
      "source": [
        "plot(df_twitter, 'Twitter')"
      ],
      "metadata": {
        "colab": {
          "base_uri": "https://localhost:8080/",
          "height": 472
        },
        "id": "FAsQmKfmqvw3",
        "outputId": "cf1db7af-eb15-444c-d3aa-2e13d88098b7"
      },
      "execution_count": 308,
      "outputs": [
        {
          "output_type": "display_data",
          "data": {
            "text/plain": [
              "<Figure size 640x480 with 1 Axes>"
            ],
            "image/png": "[encoded data removed]"
          },
          "metadata": {}
        }
      ]
    },
    {
      "cell_type": "code",
      "source": [
        "plot(df_instagram, 'Instagram')"
      ],
      "metadata": {
        "colab": {
          "base_uri": "https://localhost:8080/",
          "height": 472
        },
        "id": "9ieM8SYuq0pb",
        "outputId": "8caf6ee7-1de0-43b0-d38c-c42a5e2765d0"
      },
      "execution_count": null,
      "outputs": [
        {
          "output_type": "display_data",
          "data": {
            "text/plain": [
              "<Figure size 640x480 with 1 Axes>"
            ],
            "image/png": "[encoded data removed]"
          },
          "metadata": {}
        }
      ]
    },
    {
      "cell_type": "code",
      "source": [
        "plot(df_facebook, 'Facebook')"
      ],
      "metadata": {
        "colab": {
          "base_uri": "https://localhost:8080/",
          "height": 472
        },
        "id": "7RjKN1f3q4Yt",
        "outputId": "77e0894e-b752-4648-b15a-0aba7dd73cc5"
      },
      "execution_count": null,
      "outputs": [
        {
          "output_type": "display_data",
          "data": {
            "text/plain": [
              "<Figure size 640x480 with 1 Axes>"
            ],
            "image/png": "[encoded data removed]"
          },
          "metadata": {}
        }
      ]
    },
    {
      "cell_type": "markdown",
      "source": [
        "The sentiment histograms of three platforms display a consistent pattern, with a higher number of positive posts across all platforms. The ratio of positive to negative posts is approximately 2:1.\n"
      ],
      "metadata": {
        "id": "jeV2F1Qlq_po"
      }
    },
    {
      "cell_type": "markdown",
      "source": [
        "### Sentiments Trend 2010-2023\n",
        "\n"
      ],
      "metadata": {
        "id": "t6tm_SqaygYq"
      }
    },
    {
      "cell_type": "code",
      "source": [
        "print(min(df_twitter['Year']))\n",
        "print(max(df_twitter['Year']))"
      ],
      "metadata": {
        "id": "5jjPH6hR1PqV",
        "colab": {
          "base_uri": "https://localhost:8080/",
          "height": 0
        },
        "outputId": "49d83c23-3d4b-4c34-a917-91a7a5ca7042"
      },
      "execution_count": 309,
      "outputs": [
        {
          "output_type": "stream",
          "name": "stdout",
          "text": [
            "2010\n",
            "2023\n"
          ]
        }
      ]
    },
    {
      "cell_type": "markdown",
      "source": [
        "We can save the proportion in a new column named 'Sentiment_Ratio' to help with the visualization."
      ],
      "metadata": {
        "id": "OihEfUmR-xps"
      }
    },
    {
      "cell_type": "code",
      "source": [
        "df_twitter.dtypes\n",
        "df_twitter['Sentiment'] = df_twitter['Sentiment'].astype(pd.StringDtype())\n",
        "df_instagram['Sentiment'] = df_instagram['Sentiment'].astype(pd.StringDtype())\n",
        "df_facebook['Sentiment'] = df_facebook['Sentiment'].astype(pd.StringDtype())"
      ],
      "metadata": {
        "id": "N7Sw5IyJ5uSt"
      },
      "execution_count": null,
      "outputs": []
    },
    {
      "cell_type": "code",
      "source": [
        "def calculate_sentiment_ratio(df):\n",
        "  df_byyear = df.groupby('Year')['Sentiment'].value_counts().unstack()\n",
        "  df_byyear.fillna(0)\n",
        "  df_byyear['Sentiment_Ratio'] = df_byyear['NEGATIVE'] / df_byyear['POSITIVE']\n",
        "  return df_byyear\n",
        "\n",
        "df_twitter_byyear = calculate_sentiment_ratio(df_twitter).fillna(0)\n",
        "df_instagram_byyear = calculate_sentiment_ratio(df_instagram).fillna(0)\n",
        "df_facebook_byyear = calculate_sentiment_ratio(df_facebook).fillna(0)"
      ],
      "metadata": {
        "id": "jHG9wkF03JVH"
      },
      "execution_count": 311,
      "outputs": []
    },
    {
      "cell_type": "code",
      "source": [
        "def plotLine(df, title):\n",
        "  plt.plot(df.index, df['Sentiment_Ratio'])\n",
        "  plt.title('Sentiment Ratio_'+title)\n",
        "  plt.show()\n",
        "\n",
        "titles = ['Twitter', 'Instagram', 'Facebook']\n",
        "df_list = [df_twitter_byyear, df_instagram_byyear, df_facebook_byyear]\n",
        "fig, ax = plt.subplots()\n",
        "for idx in range(0, 3):\n",
        "  l,=ax.plot(df_list[idx].index, df_list[idx]['Sentiment_Ratio'])\n",
        "  l.set_label(titles[idx])\n",
        "  ax.set_title('Sentiment Ratio: Negative/Postive')\n",
        "  ax.legend()"
      ],
      "metadata": {
        "colab": {
          "base_uri": "https://localhost:8080/",
          "height": 452
        },
        "id": "qednYs7d1VLd",
        "outputId": "6d11f243-cbec-4085-b8ad-944114bb0e46"
      },
      "execution_count": 312,
      "outputs": [
        {
          "output_type": "display_data",
          "data": {
            "text/plain": [
              "<Figure size 640x480 with 1 Axes>"
            ],
            "image/png": "[encoded data removed]"
          },
          "metadata": {}
        }
      ]
    },
    {
      "cell_type": "markdown",
      "source": [
        "### Visualization Summary\n",
        "\n",
        "Summarizing from the above plot, we might need to disregard the ratios from 2010 to 2014 since the zero value could be because of lack of data. From 2016 to 2023, the data seems to hold more significance. Instagram users demonstrated a lower ratio of negative posts compared to Twitter and Facebook users, who exhibited higher ratios of such content. Facebook's negative posts ratio reached to a peak in 2019. From 2022 onwards, there has been a marked reduction in the ratio of negative posts, suggesting an improvement in the social media environment and a growing positivity in people's attitudes towards their lives.\n",
        "\n",
        "Analyzing social media posts offers the opportunity to track changes in public emotions over time, enabling us to take appropriate measures to foster a more positive social environment.\n",
        "\n",
        "So far we analyzed the sentiments across different time periods, but there are additional dimensions like region, post datetime which could be further explored."
      ],
      "metadata": {
        "id": "t7wkTrz-DEI1"
      }
    },
    {
      "cell_type": "markdown",
      "source": [
        "### Predicting Social Media Performance Metrics\n",
        "\n",
        "A data mining approach typically includes phases such as data\n",
        "understanding, data preparation, modeling, and evaluation. The original dataset has the features as:\n",
        "*   Text\n",
        "*   Sentiment\n",
        "*   Timestamp\n",
        "*   User\n",
        "*   Platform\n",
        "*   Hashtags\n",
        "*   Retweets\n",
        "*   Likes\n",
        "*   Country\n",
        "*   Year\n",
        "*   Month\n",
        "*   Day\n",
        "*   Hour \\\\\n",
        "\n",
        "The text and Timestamp of each record might be distinct and not suitable for modeling, therefore I disregarded these two columns. 'Day of week' is a typical feature affecting the performance of posts, I converted the days to weekday. There are several categorical variables including 'Sentiment', 'Platform', 'Country', 'Hashtag', SVM are unable to be applied directly since the model is based on the Euclidean distances. We could use dummy variables to represent the categorical variables. \\\\\n",
        "\n",
        "Input Features: Sentiment, Platform, Retweets, Country, Year, Month, Weekday, Hour, Hashtags \\\\\n",
        "Output Feature: Likes \\\\\n",
        "\n",
        "Reference: Predicting social media performance metrics and evaluation of the impact on brand building: A data mining approach (Sérgio Moro a,b,⁎, Paulo Rita a, Bernardo Vala)\n"
      ],
      "metadata": {
        "id": "bnBJnYi06NEg"
      }
    },
    {
      "cell_type": "code",
      "source": [
        "import pandas as pd\n",
        "df2 = pd.read_csv(\"sentimentdataset.csv\")\n",
        "df2.columns"
      ],
      "metadata": {
        "colab": {
          "base_uri": "https://localhost:8080/"
        },
        "id": "_jbjchdBzMq0",
        "outputId": "12192458-0068-4042-cd3d-71b9216e4565"
      },
      "execution_count": 20,
      "outputs": [
        {
          "output_type": "execute_result",
          "data": {
            "text/plain": [
              "Index(['Unnamed: 0.1', 'Unnamed: 0', 'Text', 'Sentiment', 'Timestamp', 'User',\n",
              "       'Platform', 'Hashtags', 'Retweets', 'Likes', 'Country', 'Year', 'Month',\n",
              "       'Day', 'Hour'],\n",
              "      dtype='object')"
            ]
          },
          "metadata": {},
          "execution_count": 20
        }
      ]
    },
    {
      "cell_type": "code",
      "source": [
        "df2['Weekday'] = pd.to_datetime(df2['Timestamp']).dt.dayofweek"
      ],
      "metadata": {
        "id": "VwkrZatREFUv"
      },
      "execution_count": 21,
      "outputs": []
    },
    {
      "cell_type": "code",
      "source": [
        "df2['Hashtags'] = df2['Hashtags'].apply(lambda x: x[2:])\n",
        "df2[['Hashtags_1', 'Hashtags_2']] = df2['Hashtags'].str.split(' #', n=1, expand=True)\n",
        "df2.head()"
      ],
      "metadata": {
        "colab": {
          "base_uri": "https://localhost:8080/",
          "height": 678
        },
        "id": "vsgLsLJKrwI2",
        "outputId": "01af3470-f1e9-4c41-9a77-25828c351179"
      },
      "execution_count": 22,
      "outputs": [
        {
          "output_type": "execute_result",
          "data": {
            "text/plain": [
              "   Unnamed: 0.1  Unnamed: 0  \\\n",
              "0             0           0   \n",
              "1             1           1   \n",
              "2             2           2   \n",
              "3             3           3   \n",
              "4             4           4   \n",
              "\n",
              "                                                Text    Sentiment  \\\n",
              "0   Enjoying a beautiful day at the park!        ...   Positive     \n",
              "1   Traffic was terrible this morning.           ...   Negative     \n",
              "2   Just finished an amazing workout! 💪          ...   Positive     \n",
              "3   Excited about the upcoming weekend getaway!  ...   Positive     \n",
              "4   Trying out a new recipe for dinner tonight.  ...   Neutral      \n",
              "\n",
              "             Timestamp            User     Platform  \\\n",
              "0  2023-01-15 12:30:00   User123          Twitter     \n",
              "1  2023-01-15 08:45:00   CommuterX        Twitter     \n",
              "2  2023-01-15 15:45:00   FitnessFan      Instagram    \n",
              "3  2023-01-15 18:20:00   AdventureX       Facebook    \n",
              "4  2023-01-15 19:55:00   ChefCook        Instagram    \n",
              "\n",
              "                                   Hashtags  Retweets  Likes       Country  \\\n",
              "0  Nature #Park                                  15.0   30.0     USA         \n",
              "1  Traffic #Morning                               5.0   10.0     Canada      \n",
              "2  Fitness #Workout                              20.0   40.0   USA           \n",
              "3  Travel #Adventure                              8.0   15.0     UK          \n",
              "4  Cooking #Food                                 12.0   25.0    Australia    \n",
              "\n",
              "   Year  Month  Day  Hour  Weekday Hashtags_1  \\\n",
              "0  2023      1   15    12        6     Nature   \n",
              "1  2023      1   15     8        6    Traffic   \n",
              "2  2023      1   15    15        6    Fitness   \n",
              "3  2023      1   15    18        6     Travel   \n",
              "4  2023      1   15    19        6    Cooking   \n",
              "\n",
              "                         Hashtags_2  \n",
              "0  Park                              \n",
              "1   Morning                          \n",
              "2   Workout                          \n",
              "3  Adventure                         \n",
              "4   Food                             "
            ],
            "text/html": [
              "\n",
              "  <div id=\"df-417baea1-6313-46ea-a524-e022fc0e7c3b\" class=\"colab-df-container\">\n",
              "    <div>\n",
              "<style scoped>\n",
              "    .dataframe tbody tr th:only-of-type {\n",
              "        vertical-align: middle;\n",
              "    }\n",
              "\n",
              "    .dataframe tbody tr th {\n",
              "        vertical-align: top;\n",
              "    }\n",
              "\n",
              "    .dataframe thead th {\n",
              "        text-align: right;\n",
              "    }\n",
              "</style>\n",
              "<table border=\"1\" class=\"dataframe\">\n",
              "  <thead>\n",
              "    <tr style=\"text-align: right;\">\n",
              "      <th></th>\n",
              "      <th>Unnamed: 0.1</th>\n",
              "      <th>Unnamed: 0</th>\n",
              "      <th>Text</th>\n",
              "      <th>Sentiment</th>\n",
              "      <th>Timestamp</th>\n",
              "      <th>User</th>\n",
              "      <th>Platform</th>\n",
              "      <th>Hashtags</th>\n",
              "      <th>Retweets</th>\n",
              "      <th>Likes</th>\n",
              "      <th>Country</th>\n",
              "      <th>Year</th>\n",
              "      <th>Month</th>\n",
              "      <th>Day</th>\n",
              "      <th>Hour</th>\n",
              "      <th>Weekday</th>\n",
              "      <th>Hashtags_1</th>\n",
              "      <th>Hashtags_2</th>\n",
              "    </tr>\n",
              "  </thead>\n",
              "  <tbody>\n",
              "    <tr>\n",
              "      <th>0</th>\n",
              "      <td>0</td>\n",
              "      <td>0</td>\n",
              "      <td>Enjoying a beautiful day at the park!        ...</td>\n",
              "      <td>Positive</td>\n",
              "      <td>2023-01-15 12:30:00</td>\n",
              "      <td>User123</td>\n",
              "      <td>Twitter</td>\n",
              "      <td>Nature #Park</td>\n",
              "      <td>15.0</td>\n",
              "      <td>30.0</td>\n",
              "      <td>USA</td>\n",
              "      <td>2023</td>\n",
              "      <td>1</td>\n",
              "      <td>15</td>\n",
              "      <td>12</td>\n",
              "      <td>6</td>\n",
              "      <td>Nature</td>\n",
              "      <td>Park</td>\n",
              "    </tr>\n",
              "    <tr>\n",
              "      <th>1</th>\n",
              "      <td>1</td>\n",
              "      <td>1</td>\n",
              "      <td>Traffic was terrible this morning.           ...</td>\n",
              "      <td>Negative</td>\n",
              "      <td>2023-01-15 08:45:00</td>\n",
              "      <td>CommuterX</td>\n",
              "      <td>Twitter</td>\n",
              "      <td>Traffic #Morning</td>\n",
              "      <td>5.0</td>\n",
              "      <td>10.0</td>\n",
              "      <td>Canada</td>\n",
              "      <td>2023</td>\n",
              "      <td>1</td>\n",
              "      <td>15</td>\n",
              "      <td>8</td>\n",
              "      <td>6</td>\n",
              "      <td>Traffic</td>\n",
              "      <td>Morning</td>\n",
              "    </tr>\n",
              "    <tr>\n",
              "      <th>2</th>\n",
              "      <td>2</td>\n",
              "      <td>2</td>\n",
              "      <td>Just finished an amazing workout! 💪          ...</td>\n",
              "      <td>Positive</td>\n",
              "      <td>2023-01-15 15:45:00</td>\n",
              "      <td>FitnessFan</td>\n",
              "      <td>Instagram</td>\n",
              "      <td>Fitness #Workout</td>\n",
              "      <td>20.0</td>\n",
              "      <td>40.0</td>\n",
              "      <td>USA</td>\n",
              "      <td>2023</td>\n",
              "      <td>1</td>\n",
              "      <td>15</td>\n",
              "      <td>15</td>\n",
              "      <td>6</td>\n",
              "      <td>Fitness</td>\n",
              "      <td>Workout</td>\n",
              "    </tr>\n",
              "    <tr>\n",
              "      <th>3</th>\n",
              "      <td>3</td>\n",
              "      <td>3</td>\n",
              "      <td>Excited about the upcoming weekend getaway!  ...</td>\n",
              "      <td>Positive</td>\n",
              "      <td>2023-01-15 18:20:00</td>\n",
              "      <td>AdventureX</td>\n",
              "      <td>Facebook</td>\n",
              "      <td>Travel #Adventure</td>\n",
              "      <td>8.0</td>\n",
              "      <td>15.0</td>\n",
              "      <td>UK</td>\n",
              "      <td>2023</td>\n",
              "      <td>1</td>\n",
              "      <td>15</td>\n",
              "      <td>18</td>\n",
              "      <td>6</td>\n",
              "      <td>Travel</td>\n",
              "      <td>Adventure</td>\n",
              "    </tr>\n",
              "    <tr>\n",
              "      <th>4</th>\n",
              "      <td>4</td>\n",
              "      <td>4</td>\n",
              "      <td>Trying out a new recipe for dinner tonight.  ...</td>\n",
              "      <td>Neutral</td>\n",
              "      <td>2023-01-15 19:55:00</td>\n",
              "      <td>ChefCook</td>\n",
              "      <td>Instagram</td>\n",
              "      <td>Cooking #Food</td>\n",
              "      <td>12.0</td>\n",
              "      <td>25.0</td>\n",
              "      <td>Australia</td>\n",
              "      <td>2023</td>\n",
              "      <td>1</td>\n",
              "      <td>15</td>\n",
              "      <td>19</td>\n",
              "      <td>6</td>\n",
              "      <td>Cooking</td>\n",
              "      <td>Food</td>\n",
              "    </tr>\n",
              "  </tbody>\n",
              "</table>\n",
              "</div>\n",
              "    <div class=\"colab-df-buttons\">\n",
              "\n",
              "  <div class=\"colab-df-container\">\n",
              "    <button class=\"colab-df-convert\" onclick=\"convertToInteractive('df-417baea1-6313-46ea-a524-e022fc0e7c3b')\"\n",
              "            title=\"Convert this dataframe to an interactive table.\"\n",
              "            style=\"display:none;\">\n",
              "\n",
              "  <svg xmlns=\"http://www.w3.org/2000/svg\" height=\"24px\" viewBox=\"0 -960 960 960\">\n",
              "    <path d=\"M120-120v-720h720v720H120Zm60-500h600v-160H180v160Zm220 220h160v-160H400v160Zm0 220h160v-160H400v160ZM180-400h160v-160H180v160Zm440 0h160v-160H620v160ZM180-180h160v-160H180v160Zm440 0h160v-160H620v160Z\"/>\n",
              "  </svg>\n",
              "    </button>\n",
              "\n",
              "  <style>\n",
              "    .colab-df-container {\n",
              "      display:flex;\n",
              "      gap: 12px;\n",
              "    }\n",
              "\n",
              "    .colab-df-convert {\n",
              "      background-color: #E8F0FE;\n",
              "      border: none;\n",
              "      border-radius: 50%;\n",
              "      cursor: pointer;\n",
              "      display: none;\n",
              "      fill: #1967D2;\n",
              "      height: 32px;\n",
              "      padding: 0 0 0 0;\n",
              "      width: 32px;\n",
              "    }\n",
              "\n",
              "    .colab-df-convert:hover {\n",
              "      background-color: #E2EBFA;\n",
              "      box-shadow: 0px 1px 2px rgba(60, 64, 67, 0.3), 0px 1px 3px 1px rgba(60, 64, 67, 0.15);\n",
              "      fill: #174EA6;\n",
              "    }\n",
              "\n",
              "    .colab-df-buttons div {\n",
              "      margin-bottom: 4px;\n",
              "    }\n",
              "\n",
              "    [theme=dark] .colab-df-convert {\n",
              "      background-color: #3B4455;\n",
              "      fill: #D2E3FC;\n",
              "    }\n",
              "\n",
              "    [theme=dark] .colab-df-convert:hover {\n",
              "      background-color: #434B5C;\n",
              "      box-shadow: 0px 1px 3px 1px rgba(0, 0, 0, 0.15);\n",
              "      filter: drop-shadow(0px 1px 2px rgba(0, 0, 0, 0.3));\n",
              "      fill: #FFFFFF;\n",
              "    }\n",
              "  </style>\n",
              "\n",
              "    <script>\n",
              "      const buttonEl =\n",
              "        document.querySelector('#df-417baea1-6313-46ea-a524-e022fc0e7c3b button.colab-df-convert');\n",
              "      buttonEl.style.display =\n",
              "        google.colab.kernel.accessAllowed ? 'block' : 'none';\n",
              "\n",
              "      async function convertToInteractive(key) {\n",
              "        const element = document.querySelector('#df-417baea1-6313-46ea-a524-e022fc0e7c3b');\n",
              "        const dataTable =\n",
              "          await google.colab.kernel.invokeFunction('convertToInteractive',\n",
              "                                                    [key], {});\n",
              "        if (!dataTable) return;\n",
              "\n",
              "        const docLinkHtml = 'Like what you see? Visit the ' +\n",
              "          '<a target=\"_blank\" href=https://colab.research.google.com/notebooks/data_table.ipynb>data table notebook</a>'\n",
              "          + ' to learn more about interactive tables.';\n",
              "        element.innerHTML = '';\n",
              "        dataTable['output_type'] = 'display_data';\n",
              "        await google.colab.output.renderOutput(dataTable, element);\n",
              "        const docLink = document.createElement('div');\n",
              "        docLink.innerHTML = docLinkHtml;\n",
              "        element.appendChild(docLink);\n",
              "      }\n",
              "    </script>\n",
              "  </div>\n",
              "\n",
              "\n",
              "<div id=\"df-ef6e9907-767f-4154-9d78-28df12530836\">\n",
              "  <button class=\"colab-df-quickchart\" onclick=\"quickchart('df-ef6e9907-767f-4154-9d78-28df12530836')\"\n",
              "            title=\"Suggest charts\"\n",
              "            style=\"display:none;\">\n",
              "\n",
              "<svg xmlns=\"http://www.w3.org/2000/svg\" height=\"24px\"viewBox=\"0 0 24 24\"\n",
              "     width=\"24px\">\n",
              "    <g>\n",
              "        <path d=\"M19 3H5c-1.1 0-2 .9-2 2v14c0 1.1.9 2 2 2h14c1.1 0 2-.9 2-2V5c0-1.1-.9-2-2-2zM9 17H7v-7h2v7zm4 0h-2V7h2v10zm4 0h-2v-4h2v4z\"/>\n",
              "    </g>\n",
              "</svg>\n",
              "  </button>\n",
              "\n",
              "<style>\n",
              "  .colab-df-quickchart {\n",
              "      --bg-color: #E8F0FE;\n",
              "      --fill-color: #1967D2;\n",
              "      --hover-bg-color: #E2EBFA;\n",
              "      --hover-fill-color: #174EA6;\n",
              "      --disabled-fill-color: #AAA;\n",
              "      --disabled-bg-color: #DDD;\n",
              "  }\n",
              "\n",
              "  [theme=dark] .colab-df-quickchart {\n",
              "      --bg-color: #3B4455;\n",
              "      --fill-color: #D2E3FC;\n",
              "      --hover-bg-color: #434B5C;\n",
              "      --hover-fill-color: #FFFFFF;\n",
              "      --disabled-bg-color: #3B4455;\n",
              "      --disabled-fill-color: #666;\n",
              "  }\n",
              "\n",
              "  .colab-df-quickchart {\n",
              "    background-color: var(--bg-color);\n",
              "    border: none;\n",
              "    border-radius: 50%;\n",
              "    cursor: pointer;\n",
              "    display: none;\n",
              "    fill: var(--fill-color);\n",
              "    height: 32px;\n",
              "    padding: 0;\n",
              "    width: 32px;\n",
              "  }\n",
              "\n",
              "  .colab-df-quickchart:hover {\n",
              "    background-color: var(--hover-bg-color);\n",
              "    box-shadow: 0 1px 2px rgba(60, 64, 67, 0.3), 0 1px 3px 1px rgba(60, 64, 67, 0.15);\n",
              "    fill: var(--button-hover-fill-color);\n",
              "  }\n",
              "\n",
              "  .colab-df-quickchart-complete:disabled,\n",
              "  .colab-df-quickchart-complete:disabled:hover {\n",
              "    background-color: var(--disabled-bg-color);\n",
              "    fill: var(--disabled-fill-color);\n",
              "    box-shadow: none;\n",
              "  }\n",
              "\n",
              "  .colab-df-spinner {\n",
              "    border: 2px solid var(--fill-color);\n",
              "    border-color: transparent;\n",
              "    border-bottom-color: var(--fill-color);\n",
              "    animation:\n",
              "      spin 1s steps(1) infinite;\n",
              "  }\n",
              "\n",
              "  @keyframes spin {\n",
              "    0% {\n",
              "      border-color: transparent;\n",
              "      border-bottom-color: var(--fill-color);\n",
              "      border-left-color: var(--fill-color);\n",
              "    }\n",
              "    20% {\n",
              "      border-color: transparent;\n",
              "      border-left-color: var(--fill-color);\n",
              "      border-top-color: var(--fill-color);\n",
              "    }\n",
              "    30% {\n",
              "      border-color: transparent;\n",
              "      border-left-color: var(--fill-color);\n",
              "      border-top-color: var(--fill-color);\n",
              "      border-right-color: var(--fill-color);\n",
              "    }\n",
              "    40% {\n",
              "      border-color: transparent;\n",
              "      border-right-color: var(--fill-color);\n",
              "      border-top-color: var(--fill-color);\n",
              "    }\n",
              "    60% {\n",
              "      border-color: transparent;\n",
              "      border-right-color: var(--fill-color);\n",
              "    }\n",
              "    80% {\n",
              "      border-color: transparent;\n",
              "      border-right-color: var(--fill-color);\n",
              "      border-bottom-color: var(--fill-color);\n",
              "    }\n",
              "    90% {\n",
              "      border-color: transparent;\n",
              "      border-bottom-color: var(--fill-color);\n",
              "    }\n",
              "  }\n",
              "</style>\n",
              "\n",
              "  <script>\n",
              "    async function quickchart(key) {\n",
              "      const quickchartButtonEl =\n",
              "        document.querySelector('#' + key + ' button');\n",
              "      quickchartButtonEl.disabled = true;  // To prevent multiple clicks.\n",
              "      quickchartButtonEl.classList.add('colab-df-spinner');\n",
              "      try {\n",
              "        const charts = await google.colab.kernel.invokeFunction(\n",
              "            'suggestCharts', [key], {});\n",
              "      } catch (error) {\n",
              "        console.error('Error during call to suggestCharts:', error);\n",
              "      }\n",
              "      quickchartButtonEl.classList.remove('colab-df-spinner');\n",
              "      quickchartButtonEl.classList.add('colab-df-quickchart-complete');\n",
              "    }\n",
              "    (() => {\n",
              "      let quickchartButtonEl =\n",
              "        document.querySelector('#df-ef6e9907-767f-4154-9d78-28df12530836 button');\n",
              "      quickchartButtonEl.style.display =\n",
              "        google.colab.kernel.accessAllowed ? 'block' : 'none';\n",
              "    })();\n",
              "  </script>\n",
              "</div>\n",
              "\n",
              "    </div>\n",
              "  </div>\n"
            ],
            "application/vnd.google.colaboratory.intrinsic+json": {
              "type": "dataframe",
              "variable_name": "df2",
              "summary": "{\n  \"name\": \"df2\",\n  \"rows\": 732,\n  \"fields\": [\n    {\n      \"column\": \"Unnamed: 0.1\",\n      \"properties\": {\n        \"dtype\": \"number\",\n        \"std\": 211,\n        \"min\": 0,\n        \"max\": 732,\n        \"num_unique_values\": 732,\n        \"samples\": [\n          605,\n          34,\n          301\n        ],\n        \"semantic_type\": \"\",\n        \"description\": \"\"\n      }\n    },\n    {\n      \"column\": \"Unnamed: 0\",\n      \"properties\": {\n        \"dtype\": \"number\",\n        \"std\": 212,\n        \"min\": 0,\n        \"max\": 736,\n        \"num_unique_values\": 732,\n        \"samples\": [\n          609,\n          35,\n          305\n        ],\n        \"semantic_type\": \"\",\n        \"description\": \"\"\n      }\n    },\n    {\n      \"column\": \"Text\",\n      \"properties\": {\n        \"dtype\": \"string\",\n        \"num_unique_values\": 707,\n        \"samples\": [\n          \"Walking the Great Wall of China, each step a testament to ancient engineering marvels. \",\n          \" Laughter is the key to joy\\u2014attending a stand-up comedy show. \",\n          \" The fear of the unknown is keeping me up at night.    \"\n        ],\n        \"semantic_type\": \"\",\n        \"description\": \"\"\n      }\n    },\n    {\n      \"column\": \"Sentiment\",\n      \"properties\": {\n        \"dtype\": \"category\",\n        \"num_unique_values\": 279,\n        \"samples\": [\n          \" Elation       \",\n          \" Confidence    \",\n          \" Loss \"\n        ],\n        \"semantic_type\": \"\",\n        \"description\": \"\"\n      }\n    },\n    {\n      \"column\": \"Timestamp\",\n      \"properties\": {\n        \"dtype\": \"object\",\n        \"num_unique_values\": 683,\n        \"samples\": [\n          \"2019-12-12 17:00:00\",\n          \"2018-03-10 09:45:00\",\n          \"2022-01-05 10:30:00\"\n        ],\n        \"semantic_type\": \"\",\n        \"description\": \"\"\n      }\n    },\n    {\n      \"column\": \"User\",\n      \"properties\": {\n        \"dtype\": \"string\",\n        \"num_unique_values\": 685,\n        \"samples\": [\n          \" VenomousHeart \",\n          \" GamingEnthusiast \",\n          \" DreamChaser       \"\n        ],\n        \"semantic_type\": \"\",\n        \"description\": \"\"\n      }\n    },\n    {\n      \"column\": \"Platform\",\n      \"properties\": {\n        \"dtype\": \"category\",\n        \"num_unique_values\": 4,\n        \"samples\": [\n          \" Instagram \",\n          \" Twitter \",\n          \" Twitter  \"\n        ],\n        \"semantic_type\": \"\",\n        \"description\": \"\"\n      }\n    },\n    {\n      \"column\": \"Hashtags\",\n      \"properties\": {\n        \"dtype\": \"string\",\n        \"num_unique_values\": 697,\n        \"samples\": [\n          \"Fulfillment #PuzzleChallenge                \",\n          \"Nostalgia #ClassicFilmMoments \",\n          \"Isolation #EmotionalWinter            \"\n        ],\n        \"semantic_type\": \"\",\n        \"description\": \"\"\n      }\n    },\n    {\n      \"column\": \"Retweets\",\n      \"properties\": {\n        \"dtype\": \"number\",\n        \"std\": 7.061286414470444,\n        \"min\": 5.0,\n        \"max\": 40.0,\n        \"num_unique_values\": 26,\n        \"samples\": [\n          18.0,\n          17.0,\n          15.0\n        ],\n        \"semantic_type\": \"\",\n        \"description\": \"\"\n      }\n    },\n    {\n      \"column\": \"Likes\",\n      \"properties\": {\n        \"dtype\": \"number\",\n        \"std\": 14.089848390888775,\n        \"min\": 10.0,\n        \"max\": 80.0,\n        \"num_unique_values\": 38,\n        \"samples\": [\n          31.0,\n          51.0,\n          25.0\n        ],\n        \"semantic_type\": \"\",\n        \"description\": \"\"\n      }\n    },\n    {\n      \"column\": \"Country\",\n      \"properties\": {\n        \"dtype\": \"category\",\n        \"num_unique_values\": 115,\n        \"samples\": [\n          \" France         \",\n          \" Australia \",\n          \" India         \"\n        ],\n        \"semantic_type\": \"\",\n        \"description\": \"\"\n      }\n    },\n    {\n      \"column\": \"Year\",\n      \"properties\": {\n        \"dtype\": \"number\",\n        \"std\": 2,\n        \"min\": 2010,\n        \"max\": 2023,\n        \"num_unique_values\": 14,\n        \"samples\": [\n          2016,\n          2018,\n          2023\n        ],\n        \"semantic_type\": \"\",\n        \"description\": \"\"\n      }\n    },\n    {\n      \"column\": \"Month\",\n      \"properties\": {\n        \"dtype\": \"number\",\n        \"std\": 3,\n        \"min\": 1,\n        \"max\": 12,\n        \"num_unique_values\": 12,\n        \"samples\": [\n          10,\n          7,\n          1\n        ],\n        \"semantic_type\": \"\",\n        \"description\": \"\"\n      }\n    },\n    {\n      \"column\": \"Day\",\n      \"properties\": {\n        \"dtype\": \"number\",\n        \"std\": 8,\n        \"min\": 1,\n        \"max\": 31,\n        \"num_unique_values\": 31,\n        \"samples\": [\n          7,\n          30,\n          3\n        ],\n        \"semantic_type\": \"\",\n        \"description\": \"\"\n      }\n    },\n    {\n      \"column\": \"Hour\",\n      \"properties\": {\n        \"dtype\": \"number\",\n        \"std\": 4,\n        \"min\": 0,\n        \"max\": 23,\n        \"num_unique_values\": 22,\n        \"samples\": [\n          12,\n          20,\n          13\n        ],\n        \"semantic_type\": \"\",\n        \"description\": \"\"\n      }\n    },\n    {\n      \"column\": \"Weekday\",\n      \"properties\": {\n        \"dtype\": \"number\",\n        \"std\": 2,\n        \"min\": 0,\n        \"max\": 6,\n        \"num_unique_values\": 7,\n        \"samples\": [\n          6,\n          0,\n          4\n        ],\n        \"semantic_type\": \"\",\n        \"description\": \"\"\n      }\n    },\n    {\n      \"column\": \"Hashtags_1\",\n      \"properties\": {\n        \"dtype\": \"string\",\n        \"num_unique_values\": 372,\n        \"samples\": [\n          \"CafeteriaDrama\",\n          \"FamilyTime\",\n          \"Reflection\"\n        ],\n        \"semantic_type\": \"\",\n        \"description\": \"\"\n      }\n    },\n    {\n      \"column\": \"Hashtags_2\",\n      \"properties\": {\n        \"dtype\": \"string\",\n        \"num_unique_values\": 670,\n        \"samples\": [\n          \"CulinaryJourney             \",\n          \"PuzzleChallenge                \",\n          \"EdSheeranConcert \"\n        ],\n        \"semantic_type\": \"\",\n        \"description\": \"\"\n      }\n    }\n  ]\n}"
            }
          },
          "metadata": {},
          "execution_count": 22
        }
      ]
    },
    {
      "cell_type": "code",
      "source": [
        "df2 = df2[['Sentiment','Platform','Retweets','Likes','Country','Year','Month','Weekday','Hour','Hashtags_1', 'Hashtags_2']]"
      ],
      "metadata": {
        "id": "den3OgCV8Q0l"
      },
      "execution_count": 23,
      "outputs": []
    },
    {
      "cell_type": "code",
      "source": [
        "df2['Country'] = df2['Country'].str.strip()\n",
        "df2['Sentiment'] = df2['Sentiment'].str.strip()\n",
        "df2['Platform'] = df2['Platform'].str.strip()"
      ],
      "metadata": {
        "id": "AwZ0ThjjGoul"
      },
      "execution_count": 24,
      "outputs": []
    },
    {
      "cell_type": "code",
      "source": [
        "# prompt: convert 'Sentiment', 'Plarform', 'Hashtags_1', 'Hashtags_2', 'Country', 'Day' to dummy variables\n",
        "df2 = pd.get_dummies(df2, columns=['Sentiment','Platform','Country','Hashtags_1', 'Hashtags_2'])"
      ],
      "metadata": {
        "id": "guuFrEwjAjsh"
      },
      "execution_count": 25,
      "outputs": []
    },
    {
      "cell_type": "code",
      "source": [
        "df2.columns"
      ],
      "metadata": {
        "colab": {
          "base_uri": "https://localhost:8080/"
        },
        "id": "7Fk-FvV6A0SR",
        "outputId": "105be669-c0f1-4fc5-84cd-49c547ece285"
      },
      "execution_count": 26,
      "outputs": [
        {
          "output_type": "execute_result",
          "data": {
            "text/plain": [
              "Index(['Retweets', 'Likes', 'Year', 'Month', 'Weekday', 'Hour',\n",
              "       'Sentiment_Acceptance', 'Sentiment_Accomplishment',\n",
              "       'Sentiment_Admiration', 'Sentiment_Adoration',\n",
              "       ...\n",
              "       'Hashtags_2_WonderfulMoment ', 'Hashtags_2_WorkFromHome           ',\n",
              "       'Hashtags_2_Workout                        ',\n",
              "       'Hashtags_2_Workshop                  ', 'Hashtags_2_WorldCupTriumph ',\n",
              "       'Hashtags_2_Worry                               ',\n",
              "       'Hashtags_2_WoundedHeart              ',\n",
              "       'Hashtags_2_YearbookMemories            ',\n",
              "       'Hashtags_2_YearningForConnection         ', 'Hashtags_2_ZenWisdom '],\n",
              "      dtype='object', length=1275)"
            ]
          },
          "metadata": {},
          "execution_count": 26
        }
      ]
    },
    {
      "cell_type": "code",
      "source": [
        "df2.dropna()"
      ],
      "metadata": {
        "id": "DF_IHHPklds5"
      },
      "execution_count": null,
      "outputs": []
    },
    {
      "cell_type": "code",
      "source": [
        "X = df2.drop(['Likes'],axis=1)\n",
        "y = df2[['Likes']]"
      ],
      "metadata": {
        "id": "-K8uDaC9A4Tx"
      },
      "execution_count": 51,
      "outputs": []
    },
    {
      "cell_type": "markdown",
      "source": [
        "#### SelectKBest\n",
        "SelectKBest scores the features based on statistical tests\n",
        "like chi-squared test, etc. We can use this in the preprossing step to visualize the ranking of features. \\\\\n",
        "https://scikit-learn.org/stable/modules/generated/sklearn.feature_selection.SelectKBest.html"
      ],
      "metadata": {
        "id": "EsSQpL3yTVCs"
      }
    },
    {
      "cell_type": "code",
      "source": [
        "from sklearn.feature_selection import SelectKBest, chi2\n",
        "fs = SelectKBest(score_func=chi2, k = 1000) # We can select the top k features if set the value here\n",
        "X_new = fs.fit_transform(X, y)\n",
        "X_new.shape"
      ],
      "metadata": {
        "colab": {
          "base_uri": "https://localhost:8080/"
        },
        "id": "TWZU7nywRYIW",
        "outputId": "aa186f5d-163e-4e66-f590-2ef13ce9ce48"
      },
      "execution_count": 52,
      "outputs": [
        {
          "output_type": "execute_result",
          "data": {
            "text/plain": [
              "(732, 1000)"
            ]
          },
          "metadata": {},
          "execution_count": 52
        }
      ]
    },
    {
      "cell_type": "code",
      "source": [
        "fs.get_feature_names_out()"
      ],
      "metadata": {
        "id": "cJ3v0ixQin1R"
      },
      "execution_count": null,
      "outputs": []
    },
    {
      "cell_type": "code",
      "source": [
        "import matplotlib.pyplot as plt\n",
        "import numpy as np\n",
        "\n",
        "result=[]\n",
        "for i in range(5):\n",
        "  result.append([X.columns[i], fs.scores_[i]])\n",
        "\n",
        "plt.rcParams.update({'font.size': 5})\n",
        "\n",
        "a = np.array([r[0] for r in result])\n",
        "b = np.array([r[1] for r in result])\n",
        "\n",
        "plt.bar(a[:5], b[:5])\n",
        "plt.xlabel(result[0][0])\n",
        "plt.ylabel(\"Score\")\n",
        "plt.title(\"Histogram of Feature Scores\")\n",
        "plt.show()\n"
      ],
      "metadata": {
        "colab": {
          "base_uri": "https://localhost:8080/",
          "height": 449
        },
        "id": "XHNaMOBqTEx3",
        "outputId": "4bd8b58e-b99e-4dc2-d991-f65e89c39fdd"
      },
      "execution_count": 55,
      "outputs": [
        {
          "output_type": "display_data",
          "data": {
            "text/plain": [
              "<Figure size 640x480 with 1 Axes>"
            ],
            "image/png": "[encoded data removed]"
          },
          "metadata": {}
        }
      ]
    },
    {
      "cell_type": "markdown",
      "source": [
        "\n",
        "From above plot, 'Year' does not affect too much on the posts performance. The 'Month' and 'Weekday' to do the posting are typical aspects to consider about when posting the content. And the number of retweets significantly increased the number of 'Likes'. After selecting the k-Best-feature, 'Year' column has been dropped after the transformation.\n"
      ],
      "metadata": {
        "id": "2_uLNdGBhCzh"
      }
    },
    {
      "cell_type": "code",
      "source": [
        "from sklearn.model_selection import train_test_split\n",
        "X_train, X_test, y_train, y_test = train_test_split(X_new, y, test_size=0.2, random_state=42)"
      ],
      "metadata": {
        "id": "Uri58z5tlrM5"
      },
      "execution_count": 60,
      "outputs": []
    },
    {
      "cell_type": "code",
      "source": [
        "X_test = pd.DataFrame(X_test)"
      ],
      "metadata": {
        "id": "bv9OlD5VmDyf"
      },
      "execution_count": 68,
      "outputs": []
    },
    {
      "cell_type": "code",
      "source": [
        "from sklearn import svm\n",
        "model = svm.SVR(kernel='linear')\n",
        "model.fit(X_train, y_train)"
      ],
      "metadata": {
        "id": "YqhRCcPJByxg"
      },
      "execution_count": null,
      "outputs": []
    },
    {
      "cell_type": "code",
      "source": [
        "accuracy = model.score(X_test, y_test)\n",
        "accuracy"
      ],
      "metadata": {
        "colab": {
          "base_uri": "https://localhost:8080/"
        },
        "id": "ogQ6w3vpKXrH",
        "outputId": "c99380db-2f82-452a-ac1d-7d152ebdb3f8"
      },
      "execution_count": 81,
      "outputs": [
        {
          "output_type": "execute_result",
          "data": {
            "text/plain": [
              "0.9976628112765115"
            ]
          },
          "metadata": {},
          "execution_count": 81
        }
      ]
    },
    {
      "cell_type": "markdown",
      "source": [
        "The accuracy of the model reachs to 0.99, and we can also cross validate several test inputs as the following."
      ],
      "metadata": {
        "id": "ykgFB7psmb45"
      }
    },
    {
      "cell_type": "code",
      "source": [
        "import numpy as np\n",
        "for i in np.random.randint(1, len(X_test), size=10):\n",
        "  print(model.predict(X_test.iloc[i-1:i, :]))\n",
        "  print(y_test.iloc[i-1:i, :])"
      ],
      "metadata": {
        "colab": {
          "base_uri": "https://localhost:8080/"
        },
        "id": "wU4YctisKjOi",
        "outputId": "e84073ae-40e1-4303-95d8-cf3fb0dd9b6b"
      },
      "execution_count": 82,
      "outputs": [
        {
          "output_type": "stream",
          "name": "stdout",
          "text": [
            "[59.92430479]\n",
            "     Likes\n",
            "338   60.0\n",
            "[80.31563532]\n",
            "     Likes\n",
            "470   80.0\n",
            "[44.40121902]\n",
            "     Likes\n",
            "457   45.0\n",
            "[60.10005728]\n",
            "     Likes\n",
            "405   60.0\n",
            "[50.65698434]\n",
            "     Likes\n",
            "244   50.0\n",
            "[60.35381198]\n",
            "     Likes\n",
            "351   60.0\n",
            "[29.94189742]\n",
            "     Likes\n",
            "319   30.0\n",
            "[69.48539783]\n",
            "     Likes\n",
            "625   70.0\n",
            "[20.06292306]\n",
            "     Likes\n",
            "165   20.0\n",
            "[44.22850228]\n",
            "     Likes\n",
            "668   45.0\n"
          ]
        }
      ]
    }
  ]
}